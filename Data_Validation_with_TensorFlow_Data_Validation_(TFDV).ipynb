{
  "nbformat": 4,
  "nbformat_minor": 0,
  "metadata": {
    "colab": {
      "name": "Data Validation with TensorFlow Data Validation (TFDV).ipynb",
      "provenance": [],
      "collapsed_sections": [],
      "include_colab_link": true
    },
    "kernelspec": {
      "name": "python2",
      "display_name": "Python 2"
    },
    "accelerator": "GPU"
  },
  "cells": [
    {
      "cell_type": "markdown",
      "metadata": {
        "id": "view-in-github",
        "colab_type": "text"
      },
      "source": [
        "<a href=\"https://colab.research.google.com/github/sergejhorvat/Tensorflow2.0_Udemy/blob/master/Data_Validation_with_TensorFlow_Data_Validation_(TFDV).ipynb\" target=\"_parent\"><img src=\"https://colab.research.google.com/assets/colab-badge.svg\" alt=\"Open In Colab\"/></a>"
      ]
    },
    {
      "cell_type": "markdown",
      "metadata": {
        "id": "wf6nxdDBtGN5",
        "colab_type": "text"
      },
      "source": [
        "## Stage 1: Install all dependencies and setting up the environment"
      ]
    },
    {
      "cell_type": "code",
      "metadata": {
        "id": "q8b1TeZBs_2S",
        "colab_type": "code",
        "outputId": "2e669aaf-b39c-4bb9-b837-2546602b1fb5",
        "colab": {
          "base_uri": "https://localhost:8080/",
          "height": 127
        }
      },
      "source": [
        "# Set up notebook to use python 2 becouse of a snappy library\n",
        "!apt-get install python-dev python-snappy"
      ],
      "execution_count": 2,
      "outputs": [
        {
          "output_type": "stream",
          "text": [
            "Reading package lists... Done\n",
            "Building dependency tree       \n",
            "Reading state information... Done\n",
            "python-dev is already the newest version (2.7.15~rc1-1).\n",
            "python-snappy is already the newest version (0.5-1.1build2).\n",
            "0 upgraded, 0 newly installed, 0 to remove and 8 not upgraded.\n"
          ],
          "name": "stdout"
        }
      ]
    },
    {
      "cell_type": "code",
      "metadata": {
        "id": "xe_7U0BIT2V9",
        "colab_type": "code",
        "colab": {
          "base_uri": "https://localhost:8080/",
          "height": 384
        },
        "outputId": "8667f227-ef9a-41ce-aae7-b0b65d04b5af"
      },
      "source": [
        "#!pip install dill==0.3.0\n"
      ],
      "execution_count": 9,
      "outputs": [
        {
          "output_type": "stream",
          "text": [
            "Collecting dill==0.3.0\n",
            "\u001b[?25l  Downloading https://files.pythonhosted.org/packages/39/7a/70803635c850e351257029089d38748516a280864c97cbc73087afef6d51/dill-0.3.0.tar.gz (151kB)\n",
            "\u001b[K     |████████████████████████████████| 153kB 2.9MB/s \n",
            "\u001b[?25hBuilding wheels for collected packages: dill\n",
            "  Building wheel for dill (setup.py) ... \u001b[?25l\u001b[?25hdone\n",
            "  Created wheel for dill: filename=dill-0.3.0-cp27-none-any.whl size=77513 sha256=9690cbd2bb02513c0f90a9d5085ca91f248f2f582d82bdef6729d4d589a82a5e\n",
            "  Stored in directory: /root/.cache/pip/wheels/c9/de/a4/a91eec4eea652104d8c81b633f32ead5eb57d1b294eab24167\n",
            "Successfully built dill\n",
            "\u001b[31mERROR: apache-beam 2.15.0 has requirement dill<0.2.10,>=0.2.9, but you'll have dill 0.3.0 which is incompatible.\u001b[0m\n",
            "Installing collected packages: dill\n",
            "  Found existing installation: dill 0.2.9\n",
            "    Uninstalling dill-0.2.9:\n",
            "      Successfully uninstalled dill-0.2.9\n",
            "Successfully installed dill-0.3.0\n"
          ],
          "name": "stdout"
        },
        {
          "output_type": "display_data",
          "data": {
            "application/vnd.colab-display-data+json": {
              "pip_warning": {
                "packages": [
                  "dill"
                ]
              }
            }
          },
          "metadata": {
            "tags": []
          }
        }
      ]
    },
    {
      "cell_type": "code",
      "metadata": {
        "id": "7bMUsv3JwU2A",
        "colab_type": "code",
        "colab": {}
      },
      "source": [
        "!pip install -q tensorflow_data_validation"
      ],
      "execution_count": 0,
      "outputs": []
    },
    {
      "cell_type": "markdown",
      "metadata": {
        "id": "FO47q651xVKp",
        "colab_type": "text"
      },
      "source": [
        "## Stage 2: Import project dependencies"
      ]
    },
    {
      "cell_type": "code",
      "metadata": {
        "id": "v15-TQQ4wf4v",
        "colab_type": "code",
        "colab": {}
      },
      "source": [
        "import pandas as pd\n",
        "import tensorflow as tf\n",
        "import tensorflow_data_validation as tfdv\n",
        "\n",
        "# import print function from python 3 \n",
        "from __future__ import print_function"
      ],
      "execution_count": 0,
      "outputs": []
    },
    {
      "cell_type": "markdown",
      "metadata": {
        "id": "S5LUUynDxvak",
        "colab_type": "text"
      },
      "source": [
        "## Stage 3: Simple dataset analysis"
      ]
    },
    {
      "cell_type": "code",
      "metadata": {
        "id": "v7r7kstFxfRQ",
        "colab_type": "code",
        "colab": {}
      },
      "source": [
        "# Neede to reupload file every time the runtime is recycled\n",
        "dataset = pd.read_csv(\"pollution-small.csv\")"
      ],
      "execution_count": 0,
      "outputs": []
    },
    {
      "cell_type": "code",
      "metadata": {
        "id": "Ha53nh-HyqF3",
        "colab_type": "code",
        "outputId": "5f2b951d-a91c-48ab-e270-962f22b848fd",
        "colab": {
          "base_uri": "https://localhost:8080/",
          "height": 35
        }
      },
      "source": [
        "dataset.shape"
      ],
      "execution_count": 11,
      "outputs": [
        {
          "output_type": "execute_result",
          "data": {
            "text/plain": [
              "(2188, 5)"
            ]
          },
          "metadata": {
            "tags": []
          },
          "execution_count": 11
        }
      ]
    },
    {
      "cell_type": "code",
      "metadata": {
        "id": "ej93eK0Aysv4",
        "colab_type": "code",
        "colab": {}
      },
      "source": [
        "training_data = dataset[:1600]"
      ],
      "execution_count": 0,
      "outputs": []
    },
    {
      "cell_type": "code",
      "metadata": {
        "id": "TTZVB628y38P",
        "colab_type": "code",
        "outputId": "41f37b19-d9a2-4997-f218-84758ba204c0",
        "colab": {
          "base_uri": "https://localhost:8080/",
          "height": 300
        }
      },
      "source": [
        "training_data.describe()"
      ],
      "execution_count": 17,
      "outputs": [
        {
          "output_type": "execute_result",
          "data": {
            "text/html": [
              "<div>\n",
              "<style scoped>\n",
              "    .dataframe tbody tr th:only-of-type {\n",
              "        vertical-align: middle;\n",
              "    }\n",
              "\n",
              "    .dataframe tbody tr th {\n",
              "        vertical-align: top;\n",
              "    }\n",
              "\n",
              "    .dataframe thead th {\n",
              "        text-align: right;\n",
              "    }\n",
              "</style>\n",
              "<table border=\"1\" class=\"dataframe\">\n",
              "  <thead>\n",
              "    <tr style=\"text-align: right;\">\n",
              "      <th></th>\n",
              "      <th>pm10</th>\n",
              "      <th>no2</th>\n",
              "      <th>so2</th>\n",
              "      <th>soot</th>\n",
              "    </tr>\n",
              "  </thead>\n",
              "  <tbody>\n",
              "    <tr>\n",
              "      <th>count</th>\n",
              "      <td>1600.000000</td>\n",
              "      <td>1600.000000</td>\n",
              "      <td>1600.000000</td>\n",
              "      <td>1600.000000</td>\n",
              "    </tr>\n",
              "    <tr>\n",
              "      <th>mean</th>\n",
              "      <td>49.656494</td>\n",
              "      <td>30.980519</td>\n",
              "      <td>16.229981</td>\n",
              "      <td>21.551956</td>\n",
              "    </tr>\n",
              "    <tr>\n",
              "      <th>std</th>\n",
              "      <td>35.211906</td>\n",
              "      <td>12.400788</td>\n",
              "      <td>10.621896</td>\n",
              "      <td>12.127354</td>\n",
              "    </tr>\n",
              "    <tr>\n",
              "      <th>min</th>\n",
              "      <td>6.380000</td>\n",
              "      <td>9.740000</td>\n",
              "      <td>4.010000</td>\n",
              "      <td>6.000000</td>\n",
              "    </tr>\n",
              "    <tr>\n",
              "      <th>25%</th>\n",
              "      <td>28.345000</td>\n",
              "      <td>22.567500</td>\n",
              "      <td>9.777500</td>\n",
              "      <td>14.400000</td>\n",
              "    </tr>\n",
              "    <tr>\n",
              "      <th>50%</th>\n",
              "      <td>38.835000</td>\n",
              "      <td>28.715000</td>\n",
              "      <td>13.275000</td>\n",
              "      <td>18.630000</td>\n",
              "    </tr>\n",
              "    <tr>\n",
              "      <th>75%</th>\n",
              "      <td>58.050000</td>\n",
              "      <td>36.370000</td>\n",
              "      <td>19.282500</td>\n",
              "      <td>24.072500</td>\n",
              "    </tr>\n",
              "    <tr>\n",
              "      <th>max</th>\n",
              "      <td>277.250000</td>\n",
              "      <td>138.010000</td>\n",
              "      <td>123.130000</td>\n",
              "      <td>107.650000</td>\n",
              "    </tr>\n",
              "  </tbody>\n",
              "</table>\n",
              "</div>"
            ],
            "text/plain": [
              "              pm10          no2          so2         soot\n",
              "count  1600.000000  1600.000000  1600.000000  1600.000000\n",
              "mean     49.656494    30.980519    16.229981    21.551956\n",
              "std      35.211906    12.400788    10.621896    12.127354\n",
              "min       6.380000     9.740000     4.010000     6.000000\n",
              "25%      28.345000    22.567500     9.777500    14.400000\n",
              "50%      38.835000    28.715000    13.275000    18.630000\n",
              "75%      58.050000    36.370000    19.282500    24.072500\n",
              "max     277.250000   138.010000   123.130000   107.650000"
            ]
          },
          "metadata": {
            "tags": []
          },
          "execution_count": 17
        }
      ]
    },
    {
      "cell_type": "code",
      "metadata": {
        "id": "lNepyJ0gy9IZ",
        "colab_type": "code",
        "colab": {}
      },
      "source": [
        "test_set = dataset[1600:]"
      ],
      "execution_count": 0,
      "outputs": []
    },
    {
      "cell_type": "code",
      "metadata": {
        "id": "O9zmE9FEzgOH",
        "colab_type": "code",
        "outputId": "07925a3d-5ce6-4550-d20b-cf710f36640a",
        "colab": {
          "base_uri": "https://localhost:8080/",
          "height": 300
        }
      },
      "source": [
        "test_set.describe()"
      ],
      "execution_count": 19,
      "outputs": [
        {
          "output_type": "execute_result",
          "data": {
            "text/html": [
              "<div>\n",
              "<style scoped>\n",
              "    .dataframe tbody tr th:only-of-type {\n",
              "        vertical-align: middle;\n",
              "    }\n",
              "\n",
              "    .dataframe tbody tr th {\n",
              "        vertical-align: top;\n",
              "    }\n",
              "\n",
              "    .dataframe thead th {\n",
              "        text-align: right;\n",
              "    }\n",
              "</style>\n",
              "<table border=\"1\" class=\"dataframe\">\n",
              "  <thead>\n",
              "    <tr style=\"text-align: right;\">\n",
              "      <th></th>\n",
              "      <th>pm10</th>\n",
              "      <th>no2</th>\n",
              "      <th>so2</th>\n",
              "      <th>soot</th>\n",
              "    </tr>\n",
              "  </thead>\n",
              "  <tbody>\n",
              "    <tr>\n",
              "      <th>count</th>\n",
              "      <td>588.000000</td>\n",
              "      <td>588.000000</td>\n",
              "      <td>588.000000</td>\n",
              "      <td>588.000000</td>\n",
              "    </tr>\n",
              "    <tr>\n",
              "      <th>mean</th>\n",
              "      <td>44.648248</td>\n",
              "      <td>37.296922</td>\n",
              "      <td>13.605170</td>\n",
              "      <td>18.441310</td>\n",
              "    </tr>\n",
              "    <tr>\n",
              "      <th>std</th>\n",
              "      <td>28.992087</td>\n",
              "      <td>10.940050</td>\n",
              "      <td>5.098944</td>\n",
              "      <td>6.596459</td>\n",
              "    </tr>\n",
              "    <tr>\n",
              "      <th>min</th>\n",
              "      <td>11.900000</td>\n",
              "      <td>15.070000</td>\n",
              "      <td>4.990000</td>\n",
              "      <td>8.000000</td>\n",
              "    </tr>\n",
              "    <tr>\n",
              "      <th>25%</th>\n",
              "      <td>28.337500</td>\n",
              "      <td>29.217500</td>\n",
              "      <td>10.122500</td>\n",
              "      <td>14.410000</td>\n",
              "    </tr>\n",
              "    <tr>\n",
              "      <th>50%</th>\n",
              "      <td>35.555000</td>\n",
              "      <td>35.815000</td>\n",
              "      <td>12.345000</td>\n",
              "      <td>17.090000</td>\n",
              "    </tr>\n",
              "    <tr>\n",
              "      <th>75%</th>\n",
              "      <td>50.812500</td>\n",
              "      <td>43.872500</td>\n",
              "      <td>15.855000</td>\n",
              "      <td>20.962500</td>\n",
              "    </tr>\n",
              "    <tr>\n",
              "      <th>max</th>\n",
              "      <td>273.770000</td>\n",
              "      <td>106.030000</td>\n",
              "      <td>38.030000</td>\n",
              "      <td>87.210000</td>\n",
              "    </tr>\n",
              "  </tbody>\n",
              "</table>\n",
              "</div>"
            ],
            "text/plain": [
              "             pm10         no2         so2        soot\n",
              "count  588.000000  588.000000  588.000000  588.000000\n",
              "mean    44.648248   37.296922   13.605170   18.441310\n",
              "std     28.992087   10.940050    5.098944    6.596459\n",
              "min     11.900000   15.070000    4.990000    8.000000\n",
              "25%     28.337500   29.217500   10.122500   14.410000\n",
              "50%     35.555000   35.815000   12.345000   17.090000\n",
              "75%     50.812500   43.872500   15.855000   20.962500\n",
              "max    273.770000  106.030000   38.030000   87.210000"
            ]
          },
          "metadata": {
            "tags": []
          },
          "execution_count": 19
        }
      ]
    },
    {
      "cell_type": "markdown",
      "metadata": {
        "id": "iGqBm9LZzyqi",
        "colab_type": "text"
      },
      "source": [
        "## Stage 3: Data analysis and validation with TFDV"
      ]
    },
    {
      "cell_type": "markdown",
      "metadata": {
        "id": "wAVQXEGG0RKH",
        "colab_type": "text"
      },
      "source": [
        "### Generate training data statistics"
      ]
    },
    {
      "cell_type": "code",
      "metadata": {
        "id": "WByxycNeziDA",
        "colab_type": "code",
        "colab": {}
      },
      "source": [
        "# Generate statistics with tfdv, more than .describe() function\n",
        "# tfdv has more functions to gerate statistics\n",
        "# Statistics that we have generated are column information, data information \n",
        "# and enerything that we can comapre our training set to our new data set \n",
        "train_stats = tfdv.generate_statistics_from_dataframe(dataframe=dataset,n_jobs=1)"
      ],
      "execution_count": 0,
      "outputs": []
    },
    {
      "cell_type": "markdown",
      "metadata": {
        "id": "BitwkaZ00_iL",
        "colab_type": "text"
      },
      "source": [
        "### Infering the schema"
      ]
    },
    {
      "cell_type": "code",
      "metadata": {
        "id": "26We0ahE1CKP",
        "colab_type": "code",
        "colab": {}
      },
      "source": [
        "# Concept os scema is important for data validation \n",
        "#  and it will contain all the data statistics \n",
        "#  to check our newly recived data  how good it is , \n",
        "#  does have some anomalies comparet to train data statistics\n",
        "# Schema will contain information like: \n",
        "#    + column data type\n",
        "#    + is column is a must or optional\n",
        "#    + What is distribution of column\n",
        "schema = tfdv.infer_schema(statistics=train_stats)"
      ],
      "execution_count": 0,
      "outputs": []
    },
    {
      "cell_type": "code",
      "metadata": {
        "id": "2ZHnaOxg24t3",
        "colab_type": "code",
        "outputId": "3c4b2f15-7420-42b6-942a-c07e9777d82d",
        "colab": {
          "base_uri": "https://localhost:8080/",
          "height": 238
        }
      },
      "source": [
        "# Display schema\n",
        "tfdv.display_schema(schema)"
      ],
      "execution_count": 26,
      "outputs": [
        {
          "output_type": "display_data",
          "data": {
            "text/plain": [
              "               Type  Presence Valency Domain\n",
              "Feature name                                \n",
              "'soot'        FLOAT  required              -\n",
              "'no2'         FLOAT  required              -\n",
              "'pm10'        FLOAT  required              -\n",
              "'Date'        BYTES  required              -\n",
              "'so2'         FLOAT  required              -"
            ],
            "text/html": [
              "<div>\n",
              "<style scoped>\n",
              "    .dataframe tbody tr th:only-of-type {\n",
              "        vertical-align: middle;\n",
              "    }\n",
              "\n",
              "    .dataframe tbody tr th {\n",
              "        vertical-align: top;\n",
              "    }\n",
              "\n",
              "    .dataframe thead th {\n",
              "        text-align: right;\n",
              "    }\n",
              "</style>\n",
              "<table border=\"1\" class=\"dataframe\">\n",
              "  <thead>\n",
              "    <tr style=\"text-align: right;\">\n",
              "      <th></th>\n",
              "      <th>Type</th>\n",
              "      <th>Presence</th>\n",
              "      <th>Valency</th>\n",
              "      <th>Domain</th>\n",
              "    </tr>\n",
              "    <tr>\n",
              "      <th>Feature name</th>\n",
              "      <th></th>\n",
              "      <th></th>\n",
              "      <th></th>\n",
              "      <th></th>\n",
              "    </tr>\n",
              "  </thead>\n",
              "  <tbody>\n",
              "    <tr>\n",
              "      <th>'soot'</th>\n",
              "      <td>FLOAT</td>\n",
              "      <td>required</td>\n",
              "      <td></td>\n",
              "      <td>-</td>\n",
              "    </tr>\n",
              "    <tr>\n",
              "      <th>'no2'</th>\n",
              "      <td>FLOAT</td>\n",
              "      <td>required</td>\n",
              "      <td></td>\n",
              "      <td>-</td>\n",
              "    </tr>\n",
              "    <tr>\n",
              "      <th>'pm10'</th>\n",
              "      <td>FLOAT</td>\n",
              "      <td>required</td>\n",
              "      <td></td>\n",
              "      <td>-</td>\n",
              "    </tr>\n",
              "    <tr>\n",
              "      <th>'Date'</th>\n",
              "      <td>BYTES</td>\n",
              "      <td>required</td>\n",
              "      <td></td>\n",
              "      <td>-</td>\n",
              "    </tr>\n",
              "    <tr>\n",
              "      <th>'so2'</th>\n",
              "      <td>FLOAT</td>\n",
              "      <td>required</td>\n",
              "      <td></td>\n",
              "      <td>-</td>\n",
              "    </tr>\n",
              "  </tbody>\n",
              "</table>\n",
              "</div>"
            ]
          },
          "metadata": {
            "tags": []
          }
        }
      ]
    },
    {
      "cell_type": "markdown",
      "metadata": {
        "id": "uWtUFaJQ3Tuc",
        "colab_type": "text"
      },
      "source": [
        "### Calculate test set statistics"
      ]
    },
    {
      "cell_type": "code",
      "metadata": {
        "id": "ok3jQTVt2-zI",
        "colab_type": "code",
        "colab": {}
      },
      "source": [
        "test_stats = tfdv.generate_statistics_from_dataframe(dataframe=test_set)"
      ],
      "execution_count": 0,
      "outputs": []
    },
    {
      "cell_type": "markdown",
      "metadata": {
        "id": "6BnDXqiz3vy6",
        "colab_type": "text"
      },
      "source": [
        "## Stage 4: Compare test statistics with the Schema"
      ]
    },
    {
      "cell_type": "markdown",
      "metadata": {
        "id": "kWlDe6VJ37ko",
        "colab_type": "text"
      },
      "source": [
        "### Checking for anomalies in new data"
      ]
    },
    {
      "cell_type": "code",
      "metadata": {
        "id": "UAfRZBnL3qx3",
        "colab_type": "code",
        "colab": {}
      },
      "source": [
        "# Anomalie is the difference between test statistics and the schema\n",
        "anomalies = tfdv.validate_statistics(statistics=test_stats, schema=schema)"
      ],
      "execution_count": 0,
      "outputs": []
    },
    {
      "cell_type": "markdown",
      "metadata": {
        "id": "shY10N0N3_DD",
        "colab_type": "text"
      },
      "source": [
        "### Displaying all detected anomalies\n",
        "\n",
        "- Integer larger than 10\n",
        "- STRING type when expected INT type\n",
        "- FLOAT type when expected INT type\n",
        "- Integer smaller than 0"
      ]
    },
    {
      "cell_type": "code",
      "metadata": {
        "id": "pexizEYr4Bqn",
        "colab_type": "code",
        "outputId": "e8538902-0c1c-471d-991e-d6b2bcd12f62",
        "colab": {
          "base_uri": "https://localhost:8080/",
          "height": 57
        }
      },
      "source": [
        "tfdv.display_anomalies(anomalies)"
      ],
      "execution_count": 30,
      "outputs": [
        {
          "output_type": "display_data",
          "data": {
            "text/plain": [
              "<IPython.core.display.HTML object>"
            ],
            "text/html": [
              "<h4 style=\"color:green;\">No anomalies found.</h4>"
            ]
          },
          "metadata": {
            "tags": []
          }
        }
      ]
    },
    {
      "cell_type": "markdown",
      "metadata": {
        "id": "2aWeFdYQ4Cb5",
        "colab_type": "text"
      },
      "source": [
        "### New data WITH anomalies"
      ]
    },
    {
      "cell_type": "code",
      "metadata": {
        "id": "PQoDCrd04HK2",
        "colab_type": "code",
        "colab": {}
      },
      "source": [
        "test_set_copy = test_set.copy()"
      ],
      "execution_count": 0,
      "outputs": []
    },
    {
      "cell_type": "code",
      "metadata": {
        "id": "tldZL65465hm",
        "colab_type": "code",
        "colab": {}
      },
      "source": [
        "test_set_copy.drop(\"soot\", axis=1, inplace=True)"
      ],
      "execution_count": 0,
      "outputs": []
    },
    {
      "cell_type": "markdown",
      "metadata": {
        "id": "O6AbhtEY4Hp-",
        "colab_type": "text"
      },
      "source": [
        "### Statistics based on data with anomalies"
      ]
    },
    {
      "cell_type": "markdown",
      "metadata": {
        "id": "_PK0RKK0skf_",
        "colab_type": "text"
      },
      "source": [
        "1.  Define statistics from our new data set"
      ]
    },
    {
      "cell_type": "code",
      "metadata": {
        "id": "DNXMz0gD4Skv",
        "colab_type": "code",
        "colab": {}
      },
      "source": [
        "test_set_copy_stats = tfdv.generate_statistics_from_dataframe(dataframe=test_set_copy)"
      ],
      "execution_count": 0,
      "outputs": []
    },
    {
      "cell_type": "markdown",
      "metadata": {
        "id": "Y_axMqkqsokJ",
        "colab_type": "text"
      },
      "source": [
        "2. Check statistics between new data set and schema"
      ]
    },
    {
      "cell_type": "code",
      "metadata": {
        "id": "wJQS09K17XKf",
        "colab_type": "code",
        "colab": {}
      },
      "source": [
        "anomalies_new = tfdv.validate_statistics(statistics=test_set_copy_stats, schema=schema)"
      ],
      "execution_count": 0,
      "outputs": []
    },
    {
      "cell_type": "markdown",
      "metadata": {
        "id": "Nipl6TBSswup",
        "colab_type": "text"
      },
      "source": [
        "3. Display if there is any anomalies"
      ]
    },
    {
      "cell_type": "code",
      "metadata": {
        "id": "texSxcnO7h8Q",
        "colab_type": "code",
        "outputId": "09b66585-f924-4bb4-c324-5ab0d48974e8",
        "colab": {
          "base_uri": "https://localhost:8080/",
          "height": 112
        }
      },
      "source": [
        "tfdv.display_anomalies(anomalies_new)"
      ],
      "execution_count": 40,
      "outputs": [
        {
          "output_type": "display_data",
          "data": {
            "text/plain": [
              "             Anomaly short description      Anomaly long description\n",
              "Feature name                                                        \n",
              "'soot'        Column dropped            Column is completely missing"
            ],
            "text/html": [
              "<div>\n",
              "<style scoped>\n",
              "    .dataframe tbody tr th:only-of-type {\n",
              "        vertical-align: middle;\n",
              "    }\n",
              "\n",
              "    .dataframe tbody tr th {\n",
              "        vertical-align: top;\n",
              "    }\n",
              "\n",
              "    .dataframe thead th {\n",
              "        text-align: right;\n",
              "    }\n",
              "</style>\n",
              "<table border=\"1\" class=\"dataframe\">\n",
              "  <thead>\n",
              "    <tr style=\"text-align: right;\">\n",
              "      <th></th>\n",
              "      <th>Anomaly short description</th>\n",
              "      <th>Anomaly long description</th>\n",
              "    </tr>\n",
              "    <tr>\n",
              "      <th>Feature name</th>\n",
              "      <th></th>\n",
              "      <th></th>\n",
              "    </tr>\n",
              "  </thead>\n",
              "  <tbody>\n",
              "    <tr>\n",
              "      <th>'soot'</th>\n",
              "      <td>Column dropped</td>\n",
              "      <td>Column is completely missing</td>\n",
              "    </tr>\n",
              "  </tbody>\n",
              "</table>\n",
              "</div>"
            ]
          },
          "metadata": {
            "tags": []
          }
        }
      ]
    },
    {
      "cell_type": "markdown",
      "metadata": {
        "id": "IlrBt63h7_UB",
        "colab_type": "text"
      },
      "source": [
        "## Stage 5: Prepare the schema for Serving"
      ]
    },
    {
      "cell_type": "markdown",
      "metadata": {
        "id": "vHDK69xhsXV9",
        "colab_type": "text"
      },
      "source": [
        "In serving time we will not have the column that we want to predict as we need it in training time. WE will use different environments for: \n",
        "\n",
        "1.   Training\n",
        "2.   Serving\n",
        "\n",
        "We will add default environments to our schema (list of environments)\n",
        "\n"
      ]
    },
    {
      "cell_type": "code",
      "metadata": {
        "id": "MgWLB_TW8Epa",
        "colab_type": "code",
        "colab": {}
      },
      "source": [
        "schema.default_environment.append(\"TRAINING\")\n",
        "schema.default_environment.append(\"SERVING\")"
      ],
      "execution_count": 0,
      "outputs": []
    },
    {
      "cell_type": "markdown",
      "metadata": {
        "id": "BSuPxRpr8Cxg",
        "colab_type": "text"
      },
      "source": [
        "### Removing a target column from the Serving schema"
      ]
    },
    {
      "cell_type": "code",
      "metadata": {
        "id": "8_H9a7WD7l3A",
        "colab_type": "code",
        "colab": {}
      },
      "source": [
        "tfdv.get_feature(schema, \"soot\").not_in_environment.append(\"SERVING\")"
      ],
      "execution_count": 0,
      "outputs": []
    },
    {
      "cell_type": "markdown",
      "metadata": {
        "id": "QonMtSXb8KWY",
        "colab_type": "text"
      },
      "source": [
        "### Checking for anomalies between the SERVING environment and new test set"
      ]
    },
    {
      "cell_type": "code",
      "metadata": {
        "id": "ZXdZ9tk58Rh_",
        "colab_type": "code",
        "colab": {}
      },
      "source": [
        "serving_env_anomalies = tfdv.validate_statistics(test_set_copy_stats, schema, environment=\"SERVING\")"
      ],
      "execution_count": 0,
      "outputs": []
    },
    {
      "cell_type": "code",
      "metadata": {
        "id": "05jDXv8o_J0O",
        "colab_type": "code",
        "outputId": "80c239b4-924d-43ae-ca6c-806f105b87dc",
        "colab": {
          "base_uri": "https://localhost:8080/",
          "height": 57
        }
      },
      "source": [
        "tfdv.display_anomalies(serving_env_anomalies)"
      ],
      "execution_count": 45,
      "outputs": [
        {
          "output_type": "display_data",
          "data": {
            "text/plain": [
              "<IPython.core.display.HTML object>"
            ],
            "text/html": [
              "<h4 style=\"color:green;\">No anomalies found.</h4>"
            ]
          },
          "metadata": {
            "tags": []
          }
        }
      ]
    },
    {
      "cell_type": "code",
      "metadata": {
        "id": "-Ok0E4AwzbH0",
        "colab_type": "code",
        "colab": {}
      },
      "source": [
        ""
      ],
      "execution_count": 0,
      "outputs": []
    }
  ]
}