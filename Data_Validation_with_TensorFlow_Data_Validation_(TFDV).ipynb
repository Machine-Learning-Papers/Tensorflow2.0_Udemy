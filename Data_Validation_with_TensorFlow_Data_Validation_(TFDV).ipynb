{
  "nbformat": 4,
  "nbformat_minor": 0,
  "metadata": {
    "colab": {
      "name": "Data Validation with TensorFlow Data Validation (TFDV).ipynb",
      "provenance": [],
      "collapsed_sections": [],
      "include_colab_link": true
    },
    "kernelspec": {
      "name": "python2",
      "display_name": "Python 2"
    },
    "accelerator": "GPU"
  },
  "cells": [
    {
      "cell_type": "markdown",
      "metadata": {
        "id": "view-in-github",
        "colab_type": "text"
      },
      "source": [
        "<a href=\"https://colab.research.google.com/github/sergejhorvat/Tensorflow2.0_Udemy/blob/master/Data_Validation_with_TensorFlow_Data_Validation_(TFDV).ipynb\" target=\"_parent\"><img src=\"https://colab.research.google.com/assets/colab-badge.svg\" alt=\"Open In Colab\"/></a>"
      ]
    },
    {
      "cell_type": "markdown",
      "metadata": {
        "id": "wf6nxdDBtGN5",
        "colab_type": "text"
      },
      "source": [
        "## Stage 1: Install all dependencies and setting up the environment"
      ]
    },
    {
      "cell_type": "code",
      "metadata": {
        "id": "q8b1TeZBs_2S",
        "colab_type": "code",
        "outputId": "9c610fea-07dd-4177-9950-46008b196221",
        "colab": {
          "base_uri": "https://localhost:8080/",
          "height": 127
        }
      },
      "source": [
        "# Set up notebook to use python 2 becouse of a snappy library\n",
        "!apt-get install python-dev python-snappy"
      ],
      "execution_count": 6,
      "outputs": [
        {
          "output_type": "stream",
          "text": [
            "Reading package lists... Done\n",
            "Building dependency tree       \n",
            "Reading state information... Done\n",
            "python-dev is already the newest version (2.7.15~rc1-1).\n",
            "python-snappy is already the newest version (0.5-1.1build2).\n",
            "0 upgraded, 0 newly installed, 0 to remove and 8 not upgraded.\n"
          ],
          "name": "stdout"
        }
      ]
    },
    {
      "cell_type": "code",
      "metadata": {
        "id": "xe_7U0BIT2V9",
        "colab_type": "code",
        "colab": {
          "base_uri": "https://localhost:8080/",
          "height": 364
        },
        "outputId": "0525f299-9317-46a1-d80e-3f54a987923e"
      },
      "source": [
        "!pip install dill==0.3.0\n"
      ],
      "execution_count": 7,
      "outputs": [
        {
          "output_type": "stream",
          "text": [
            "Collecting dill==0.3.0\n",
            "\u001b[?25l  Downloading https://files.pythonhosted.org/packages/39/7a/70803635c850e351257029089d38748516a280864c97cbc73087afef6d51/dill-0.3.0.tar.gz (151kB)\n",
            "\r\u001b[K     |██▏                             | 10kB 14.9MB/s eta 0:00:01\r\u001b[K     |████▎                           | 20kB 4.3MB/s eta 0:00:01\r\u001b[K     |██████▌                         | 30kB 6.1MB/s eta 0:00:01\r\u001b[K     |████████▋                       | 40kB 4.0MB/s eta 0:00:01\r\u001b[K     |██████████▉                     | 51kB 4.9MB/s eta 0:00:01\r\u001b[K     |█████████████                   | 61kB 5.7MB/s eta 0:00:01\r\u001b[K     |███████████████▏                | 71kB 6.6MB/s eta 0:00:01\r\u001b[K     |█████████████████▎              | 81kB 7.4MB/s eta 0:00:01\r\u001b[K     |███████████████████▌            | 92kB 8.1MB/s eta 0:00:01\r\u001b[K     |█████████████████████▋          | 102kB 6.4MB/s eta 0:00:01\r\u001b[K     |███████████████████████▉        | 112kB 6.4MB/s eta 0:00:01\r\u001b[K     |██████████████████████████      | 122kB 6.4MB/s eta 0:00:01\r\u001b[K     |████████████████████████████▏   | 133kB 6.4MB/s eta 0:00:01\r\u001b[K     |██████████████████████████████▎ | 143kB 6.4MB/s eta 0:00:01\r\u001b[K     |████████████████████████████████| 153kB 6.4MB/s \n",
            "\u001b[?25hBuilding wheels for collected packages: dill\n",
            "  Building wheel for dill (setup.py) ... \u001b[?25l\u001b[?25hdone\n",
            "  Created wheel for dill: filename=dill-0.3.0-cp27-none-any.whl size=77513 sha256=6a3fbd64061b51eb1537d5c9c78807cfd24846bc66fc62fc9c9e093a1aebc692\n",
            "  Stored in directory: /root/.cache/pip/wheels/c9/de/a4/a91eec4eea652104d8c81b633f32ead5eb57d1b294eab24167\n",
            "Successfully built dill\n",
            "\u001b[31mERROR: apache-beam 2.15.0 has requirement dill<0.2.10,>=0.2.9, but you'll have dill 0.3.0 which is incompatible.\u001b[0m\n",
            "Installing collected packages: dill\n",
            "  Found existing installation: dill 0.2.9\n",
            "    Uninstalling dill-0.2.9:\n",
            "      Successfully uninstalled dill-0.2.9\n",
            "Successfully installed dill-0.3.0\n"
          ],
          "name": "stdout"
        },
        {
          "output_type": "display_data",
          "data": {
            "application/vnd.colab-display-data+json": {
              "pip_warning": {
                "packages": [
                  "dill"
                ]
              }
            }
          },
          "metadata": {
            "tags": []
          }
        }
      ]
    },
    {
      "cell_type": "code",
      "metadata": {
        "id": "7bMUsv3JwU2A",
        "colab_type": "code",
        "colab": {}
      },
      "source": [
        "!pip install -q tensorflow_data_validation"
      ],
      "execution_count": 0,
      "outputs": []
    },
    {
      "cell_type": "markdown",
      "metadata": {
        "id": "FO47q651xVKp",
        "colab_type": "text"
      },
      "source": [
        "## Stage 2: Import project dependencies"
      ]
    },
    {
      "cell_type": "code",
      "metadata": {
        "id": "v15-TQQ4wf4v",
        "colab_type": "code",
        "colab": {}
      },
      "source": [
        "import pandas as pd\n",
        "import tensorflow as tf\n",
        "import tensorflow_data_validation as tfdv\n",
        "\n",
        "# import print function from python 3 \n",
        "from __future__ import print_function"
      ],
      "execution_count": 0,
      "outputs": []
    },
    {
      "cell_type": "markdown",
      "metadata": {
        "id": "S5LUUynDxvak",
        "colab_type": "text"
      },
      "source": [
        "## Stage 3: Simple dataset analysis"
      ]
    },
    {
      "cell_type": "code",
      "metadata": {
        "id": "v7r7kstFxfRQ",
        "colab_type": "code",
        "colab": {}
      },
      "source": [
        "# Neede to reupload file every time the runtime is recycled\n",
        "dataset = pd.read_csv(\"pollution-small.csv\")"
      ],
      "execution_count": 0,
      "outputs": []
    },
    {
      "cell_type": "code",
      "metadata": {
        "id": "Ha53nh-HyqF3",
        "colab_type": "code",
        "outputId": "2e3e09db-baf9-4ec6-a9de-7425b88c767e",
        "colab": {
          "base_uri": "https://localhost:8080/",
          "height": 35
        }
      },
      "source": [
        "dataset.shape"
      ],
      "execution_count": 17,
      "outputs": [
        {
          "output_type": "execute_result",
          "data": {
            "text/plain": [
              "(2188, 5)"
            ]
          },
          "metadata": {
            "tags": []
          },
          "execution_count": 17
        }
      ]
    },
    {
      "cell_type": "code",
      "metadata": {
        "id": "ej93eK0Aysv4",
        "colab_type": "code",
        "colab": {}
      },
      "source": [
        "training_data = dataset[:1600]"
      ],
      "execution_count": 0,
      "outputs": []
    },
    {
      "cell_type": "code",
      "metadata": {
        "id": "TTZVB628y38P",
        "colab_type": "code",
        "outputId": "eb38581e-da7b-4c0d-b89d-667aa9d8c305",
        "colab": {
          "base_uri": "https://localhost:8080/",
          "height": 300
        }
      },
      "source": [
        "training_data.describe()"
      ],
      "execution_count": 19,
      "outputs": [
        {
          "output_type": "execute_result",
          "data": {
            "text/html": [
              "<div>\n",
              "<style scoped>\n",
              "    .dataframe tbody tr th:only-of-type {\n",
              "        vertical-align: middle;\n",
              "    }\n",
              "\n",
              "    .dataframe tbody tr th {\n",
              "        vertical-align: top;\n",
              "    }\n",
              "\n",
              "    .dataframe thead th {\n",
              "        text-align: right;\n",
              "    }\n",
              "</style>\n",
              "<table border=\"1\" class=\"dataframe\">\n",
              "  <thead>\n",
              "    <tr style=\"text-align: right;\">\n",
              "      <th></th>\n",
              "      <th>pm10</th>\n",
              "      <th>no2</th>\n",
              "      <th>so2</th>\n",
              "      <th>soot</th>\n",
              "    </tr>\n",
              "  </thead>\n",
              "  <tbody>\n",
              "    <tr>\n",
              "      <th>count</th>\n",
              "      <td>1600.000000</td>\n",
              "      <td>1600.000000</td>\n",
              "      <td>1600.000000</td>\n",
              "      <td>1600.000000</td>\n",
              "    </tr>\n",
              "    <tr>\n",
              "      <th>mean</th>\n",
              "      <td>49.656494</td>\n",
              "      <td>30.980519</td>\n",
              "      <td>16.229981</td>\n",
              "      <td>21.551956</td>\n",
              "    </tr>\n",
              "    <tr>\n",
              "      <th>std</th>\n",
              "      <td>35.211906</td>\n",
              "      <td>12.400788</td>\n",
              "      <td>10.621896</td>\n",
              "      <td>12.127354</td>\n",
              "    </tr>\n",
              "    <tr>\n",
              "      <th>min</th>\n",
              "      <td>6.380000</td>\n",
              "      <td>9.740000</td>\n",
              "      <td>4.010000</td>\n",
              "      <td>6.000000</td>\n",
              "    </tr>\n",
              "    <tr>\n",
              "      <th>25%</th>\n",
              "      <td>28.345000</td>\n",
              "      <td>22.567500</td>\n",
              "      <td>9.777500</td>\n",
              "      <td>14.400000</td>\n",
              "    </tr>\n",
              "    <tr>\n",
              "      <th>50%</th>\n",
              "      <td>38.835000</td>\n",
              "      <td>28.715000</td>\n",
              "      <td>13.275000</td>\n",
              "      <td>18.630000</td>\n",
              "    </tr>\n",
              "    <tr>\n",
              "      <th>75%</th>\n",
              "      <td>58.050000</td>\n",
              "      <td>36.370000</td>\n",
              "      <td>19.282500</td>\n",
              "      <td>24.072500</td>\n",
              "    </tr>\n",
              "    <tr>\n",
              "      <th>max</th>\n",
              "      <td>277.250000</td>\n",
              "      <td>138.010000</td>\n",
              "      <td>123.130000</td>\n",
              "      <td>107.650000</td>\n",
              "    </tr>\n",
              "  </tbody>\n",
              "</table>\n",
              "</div>"
            ],
            "text/plain": [
              "              pm10          no2          so2         soot\n",
              "count  1600.000000  1600.000000  1600.000000  1600.000000\n",
              "mean     49.656494    30.980519    16.229981    21.551956\n",
              "std      35.211906    12.400788    10.621896    12.127354\n",
              "min       6.380000     9.740000     4.010000     6.000000\n",
              "25%      28.345000    22.567500     9.777500    14.400000\n",
              "50%      38.835000    28.715000    13.275000    18.630000\n",
              "75%      58.050000    36.370000    19.282500    24.072500\n",
              "max     277.250000   138.010000   123.130000   107.650000"
            ]
          },
          "metadata": {
            "tags": []
          },
          "execution_count": 19
        }
      ]
    },
    {
      "cell_type": "code",
      "metadata": {
        "id": "lNepyJ0gy9IZ",
        "colab_type": "code",
        "colab": {}
      },
      "source": [
        "test_set = dataset[1600:]"
      ],
      "execution_count": 0,
      "outputs": []
    },
    {
      "cell_type": "code",
      "metadata": {
        "id": "O9zmE9FEzgOH",
        "colab_type": "code",
        "outputId": "89bf33c7-da3e-4543-98a4-36e1f7455932",
        "colab": {
          "base_uri": "https://localhost:8080/",
          "height": 300
        }
      },
      "source": [
        "test_set.describe()"
      ],
      "execution_count": 21,
      "outputs": [
        {
          "output_type": "execute_result",
          "data": {
            "text/html": [
              "<div>\n",
              "<style scoped>\n",
              "    .dataframe tbody tr th:only-of-type {\n",
              "        vertical-align: middle;\n",
              "    }\n",
              "\n",
              "    .dataframe tbody tr th {\n",
              "        vertical-align: top;\n",
              "    }\n",
              "\n",
              "    .dataframe thead th {\n",
              "        text-align: right;\n",
              "    }\n",
              "</style>\n",
              "<table border=\"1\" class=\"dataframe\">\n",
              "  <thead>\n",
              "    <tr style=\"text-align: right;\">\n",
              "      <th></th>\n",
              "      <th>pm10</th>\n",
              "      <th>no2</th>\n",
              "      <th>so2</th>\n",
              "      <th>soot</th>\n",
              "    </tr>\n",
              "  </thead>\n",
              "  <tbody>\n",
              "    <tr>\n",
              "      <th>count</th>\n",
              "      <td>588.000000</td>\n",
              "      <td>588.000000</td>\n",
              "      <td>588.000000</td>\n",
              "      <td>588.000000</td>\n",
              "    </tr>\n",
              "    <tr>\n",
              "      <th>mean</th>\n",
              "      <td>44.648248</td>\n",
              "      <td>37.296922</td>\n",
              "      <td>13.605170</td>\n",
              "      <td>18.441310</td>\n",
              "    </tr>\n",
              "    <tr>\n",
              "      <th>std</th>\n",
              "      <td>28.992087</td>\n",
              "      <td>10.940050</td>\n",
              "      <td>5.098944</td>\n",
              "      <td>6.596459</td>\n",
              "    </tr>\n",
              "    <tr>\n",
              "      <th>min</th>\n",
              "      <td>11.900000</td>\n",
              "      <td>15.070000</td>\n",
              "      <td>4.990000</td>\n",
              "      <td>8.000000</td>\n",
              "    </tr>\n",
              "    <tr>\n",
              "      <th>25%</th>\n",
              "      <td>28.337500</td>\n",
              "      <td>29.217500</td>\n",
              "      <td>10.122500</td>\n",
              "      <td>14.410000</td>\n",
              "    </tr>\n",
              "    <tr>\n",
              "      <th>50%</th>\n",
              "      <td>35.555000</td>\n",
              "      <td>35.815000</td>\n",
              "      <td>12.345000</td>\n",
              "      <td>17.090000</td>\n",
              "    </tr>\n",
              "    <tr>\n",
              "      <th>75%</th>\n",
              "      <td>50.812500</td>\n",
              "      <td>43.872500</td>\n",
              "      <td>15.855000</td>\n",
              "      <td>20.962500</td>\n",
              "    </tr>\n",
              "    <tr>\n",
              "      <th>max</th>\n",
              "      <td>273.770000</td>\n",
              "      <td>106.030000</td>\n",
              "      <td>38.030000</td>\n",
              "      <td>87.210000</td>\n",
              "    </tr>\n",
              "  </tbody>\n",
              "</table>\n",
              "</div>"
            ],
            "text/plain": [
              "             pm10         no2         so2        soot\n",
              "count  588.000000  588.000000  588.000000  588.000000\n",
              "mean    44.648248   37.296922   13.605170   18.441310\n",
              "std     28.992087   10.940050    5.098944    6.596459\n",
              "min     11.900000   15.070000    4.990000    8.000000\n",
              "25%     28.337500   29.217500   10.122500   14.410000\n",
              "50%     35.555000   35.815000   12.345000   17.090000\n",
              "75%     50.812500   43.872500   15.855000   20.962500\n",
              "max    273.770000  106.030000   38.030000   87.210000"
            ]
          },
          "metadata": {
            "tags": []
          },
          "execution_count": 21
        }
      ]
    },
    {
      "cell_type": "markdown",
      "metadata": {
        "id": "iGqBm9LZzyqi",
        "colab_type": "text"
      },
      "source": [
        "## Stage 3: Data analysis and validation with TFDV"
      ]
    },
    {
      "cell_type": "markdown",
      "metadata": {
        "id": "wAVQXEGG0RKH",
        "colab_type": "text"
      },
      "source": [
        "### Generate training data statistics"
      ]
    },
    {
      "cell_type": "code",
      "metadata": {
        "id": "WByxycNeziDA",
        "colab_type": "code",
        "colab": {}
      },
      "source": [
        "# Generate statistics with tfdv, more than .describe() function\n",
        "# tfdv has more functions to gerate statistics\n",
        "# Statistics that we have generated are column information, data information \n",
        "# and enerything that we can comapre our training set to our new data set \n",
        "train_stats = tfdv.generate_statistics_from_dataframe(dataframe=dataset,n_jobs=1)"
      ],
      "execution_count": 0,
      "outputs": []
    },
    {
      "cell_type": "markdown",
      "metadata": {
        "id": "BitwkaZ00_iL",
        "colab_type": "text"
      },
      "source": [
        "### Infering the schema"
      ]
    },
    {
      "cell_type": "code",
      "metadata": {
        "id": "26We0ahE1CKP",
        "colab_type": "code",
        "colab": {}
      },
      "source": [
        "# Concept os scema is important for data validation \n",
        "#  and it will contain all the data statistics \n",
        "#  to check our newly recived data  how good it is , \n",
        "#  does have some anomalies comparet to train data statistics\n",
        "# Schema will contain information like: \n",
        "#    + column data type\n",
        "#    + is column is a must or optional\n",
        "#    + What is distribution of column\n",
        "schema = tfdv.infer_schema(statistics=train_stats)"
      ],
      "execution_count": 0,
      "outputs": []
    },
    {
      "cell_type": "code",
      "metadata": {
        "id": "2ZHnaOxg24t3",
        "colab_type": "code",
        "outputId": "a8e4683d-2672-41c2-b4f8-5213bbaaecf6",
        "colab": {
          "base_uri": "https://localhost:8080/",
          "height": 238
        }
      },
      "source": [
        "# Display schema\n",
        "tfdv.display_schema(schema)"
      ],
      "execution_count": 24,
      "outputs": [
        {
          "output_type": "display_data",
          "data": {
            "text/plain": [
              "               Type  Presence Valency Domain\n",
              "Feature name                                \n",
              "'soot'        FLOAT  required              -\n",
              "'no2'         FLOAT  required              -\n",
              "'pm10'        FLOAT  required              -\n",
              "'Date'        BYTES  required              -\n",
              "'so2'         FLOAT  required              -"
            ],
            "text/html": [
              "<div>\n",
              "<style scoped>\n",
              "    .dataframe tbody tr th:only-of-type {\n",
              "        vertical-align: middle;\n",
              "    }\n",
              "\n",
              "    .dataframe tbody tr th {\n",
              "        vertical-align: top;\n",
              "    }\n",
              "\n",
              "    .dataframe thead th {\n",
              "        text-align: right;\n",
              "    }\n",
              "</style>\n",
              "<table border=\"1\" class=\"dataframe\">\n",
              "  <thead>\n",
              "    <tr style=\"text-align: right;\">\n",
              "      <th></th>\n",
              "      <th>Type</th>\n",
              "      <th>Presence</th>\n",
              "      <th>Valency</th>\n",
              "      <th>Domain</th>\n",
              "    </tr>\n",
              "    <tr>\n",
              "      <th>Feature name</th>\n",
              "      <th></th>\n",
              "      <th></th>\n",
              "      <th></th>\n",
              "      <th></th>\n",
              "    </tr>\n",
              "  </thead>\n",
              "  <tbody>\n",
              "    <tr>\n",
              "      <th>'soot'</th>\n",
              "      <td>FLOAT</td>\n",
              "      <td>required</td>\n",
              "      <td></td>\n",
              "      <td>-</td>\n",
              "    </tr>\n",
              "    <tr>\n",
              "      <th>'no2'</th>\n",
              "      <td>FLOAT</td>\n",
              "      <td>required</td>\n",
              "      <td></td>\n",
              "      <td>-</td>\n",
              "    </tr>\n",
              "    <tr>\n",
              "      <th>'pm10'</th>\n",
              "      <td>FLOAT</td>\n",
              "      <td>required</td>\n",
              "      <td></td>\n",
              "      <td>-</td>\n",
              "    </tr>\n",
              "    <tr>\n",
              "      <th>'Date'</th>\n",
              "      <td>BYTES</td>\n",
              "      <td>required</td>\n",
              "      <td></td>\n",
              "      <td>-</td>\n",
              "    </tr>\n",
              "    <tr>\n",
              "      <th>'so2'</th>\n",
              "      <td>FLOAT</td>\n",
              "      <td>required</td>\n",
              "      <td></td>\n",
              "      <td>-</td>\n",
              "    </tr>\n",
              "  </tbody>\n",
              "</table>\n",
              "</div>"
            ]
          },
          "metadata": {
            "tags": []
          }
        }
      ]
    },
    {
      "cell_type": "markdown",
      "metadata": {
        "id": "uWtUFaJQ3Tuc",
        "colab_type": "text"
      },
      "source": [
        "### Calculate test set statistics"
      ]
    },
    {
      "cell_type": "code",
      "metadata": {
        "id": "ok3jQTVt2-zI",
        "colab_type": "code",
        "colab": {}
      },
      "source": [
        "test_stats = tfdv.generate_statistics_from_dataframe(dataframe=test_set)"
      ],
      "execution_count": 0,
      "outputs": []
    },
    {
      "cell_type": "markdown",
      "metadata": {
        "id": "6BnDXqiz3vy6",
        "colab_type": "text"
      },
      "source": [
        "## Stage 4: Compare test statistics with the Schema"
      ]
    },
    {
      "cell_type": "markdown",
      "metadata": {
        "id": "kWlDe6VJ37ko",
        "colab_type": "text"
      },
      "source": [
        "### Checking for anomalies in new data"
      ]
    },
    {
      "cell_type": "code",
      "metadata": {
        "id": "UAfRZBnL3qx3",
        "colab_type": "code",
        "colab": {}
      },
      "source": [
        "# Anomalie is the difference between test statistics and the schema\n",
        "anomalies = tfdv.validate_statistics(statistics=test_stats, schema=schema)"
      ],
      "execution_count": 0,
      "outputs": []
    },
    {
      "cell_type": "markdown",
      "metadata": {
        "id": "shY10N0N3_DD",
        "colab_type": "text"
      },
      "source": [
        "### Displaying all detected anomalies\n",
        "\n",
        "- Integer larger than 10\n",
        "- STRING type when expected INT type\n",
        "- FLOAT type when expected INT type\n",
        "- Integer smaller than 0"
      ]
    },
    {
      "cell_type": "code",
      "metadata": {
        "id": "pexizEYr4Bqn",
        "colab_type": "code",
        "outputId": "72084dce-3387-4b83-c5e6-0d8ce452254d",
        "colab": {
          "base_uri": "https://localhost:8080/",
          "height": 57
        }
      },
      "source": [
        "tfdv.display_anomalies(anomalies)"
      ],
      "execution_count": 27,
      "outputs": [
        {
          "output_type": "display_data",
          "data": {
            "text/plain": [
              "<IPython.core.display.HTML object>"
            ],
            "text/html": [
              "<h4 style=\"color:green;\">No anomalies found.</h4>"
            ]
          },
          "metadata": {
            "tags": []
          }
        }
      ]
    },
    {
      "cell_type": "markdown",
      "metadata": {
        "id": "2aWeFdYQ4Cb5",
        "colab_type": "text"
      },
      "source": [
        "### New data WITH anomalies"
      ]
    },
    {
      "cell_type": "code",
      "metadata": {
        "id": "PQoDCrd04HK2",
        "colab_type": "code",
        "colab": {}
      },
      "source": [
        "test_set_copy = test_set.copy()"
      ],
      "execution_count": 0,
      "outputs": []
    },
    {
      "cell_type": "code",
      "metadata": {
        "id": "tldZL65465hm",
        "colab_type": "code",
        "colab": {}
      },
      "source": [
        "test_set_copy.drop(\"soot\", axis=1, inplace=True)"
      ],
      "execution_count": 0,
      "outputs": []
    },
    {
      "cell_type": "markdown",
      "metadata": {
        "id": "O6AbhtEY4Hp-",
        "colab_type": "text"
      },
      "source": [
        "### Statistics based on data with anomalies"
      ]
    },
    {
      "cell_type": "markdown",
      "metadata": {
        "id": "_PK0RKK0skf_",
        "colab_type": "text"
      },
      "source": [
        "1.  Define statistics from our new data set"
      ]
    },
    {
      "cell_type": "code",
      "metadata": {
        "id": "DNXMz0gD4Skv",
        "colab_type": "code",
        "colab": {}
      },
      "source": [
        "test_set_copy_stats = tfdv.generate_statistics_from_dataframe(dataframe=test_set_copy)"
      ],
      "execution_count": 0,
      "outputs": []
    },
    {
      "cell_type": "markdown",
      "metadata": {
        "id": "Y_axMqkqsokJ",
        "colab_type": "text"
      },
      "source": [
        "2. Check statistics between new data set and schema"
      ]
    },
    {
      "cell_type": "code",
      "metadata": {
        "id": "wJQS09K17XKf",
        "colab_type": "code",
        "colab": {}
      },
      "source": [
        "anomalies_new = tfdv.validate_statistics(statistics=test_set_copy_stats, schema=schema)"
      ],
      "execution_count": 0,
      "outputs": []
    },
    {
      "cell_type": "markdown",
      "metadata": {
        "id": "Nipl6TBSswup",
        "colab_type": "text"
      },
      "source": [
        "3. Display if there is any anomalies"
      ]
    },
    {
      "cell_type": "code",
      "metadata": {
        "id": "texSxcnO7h8Q",
        "colab_type": "code",
        "outputId": "af064ac0-3fe2-4d3e-9458-9113ffa436a8",
        "colab": {
          "base_uri": "https://localhost:8080/",
          "height": 112
        }
      },
      "source": [
        "tfdv.display_anomalies(anomalies_new)"
      ],
      "execution_count": 32,
      "outputs": [
        {
          "output_type": "display_data",
          "data": {
            "text/plain": [
              "             Anomaly short description      Anomaly long description\n",
              "Feature name                                                        \n",
              "'soot'        Column dropped            Column is completely missing"
            ],
            "text/html": [
              "<div>\n",
              "<style scoped>\n",
              "    .dataframe tbody tr th:only-of-type {\n",
              "        vertical-align: middle;\n",
              "    }\n",
              "\n",
              "    .dataframe tbody tr th {\n",
              "        vertical-align: top;\n",
              "    }\n",
              "\n",
              "    .dataframe thead th {\n",
              "        text-align: right;\n",
              "    }\n",
              "</style>\n",
              "<table border=\"1\" class=\"dataframe\">\n",
              "  <thead>\n",
              "    <tr style=\"text-align: right;\">\n",
              "      <th></th>\n",
              "      <th>Anomaly short description</th>\n",
              "      <th>Anomaly long description</th>\n",
              "    </tr>\n",
              "    <tr>\n",
              "      <th>Feature name</th>\n",
              "      <th></th>\n",
              "      <th></th>\n",
              "    </tr>\n",
              "  </thead>\n",
              "  <tbody>\n",
              "    <tr>\n",
              "      <th>'soot'</th>\n",
              "      <td>Column dropped</td>\n",
              "      <td>Column is completely missing</td>\n",
              "    </tr>\n",
              "  </tbody>\n",
              "</table>\n",
              "</div>"
            ]
          },
          "metadata": {
            "tags": []
          }
        }
      ]
    },
    {
      "cell_type": "markdown",
      "metadata": {
        "id": "IlrBt63h7_UB",
        "colab_type": "text"
      },
      "source": [
        "## Stage 5: Prepare the schema for Serving"
      ]
    },
    {
      "cell_type": "markdown",
      "metadata": {
        "id": "vHDK69xhsXV9",
        "colab_type": "text"
      },
      "source": [
        "In serving time we will not have the column that we want to predict as we need it in training time. WE will use different environments for: \n",
        "\n",
        "1.   Training\n",
        "2.   Serving\n",
        "\n",
        "We will add default environments to our schema (list of environments)\n",
        "\n"
      ]
    },
    {
      "cell_type": "code",
      "metadata": {
        "id": "MgWLB_TW8Epa",
        "colab_type": "code",
        "colab": {}
      },
      "source": [
        "schema.default_environment.append(\"TRAINING\")\n",
        "schema.default_environment.append(\"SERVING\")"
      ],
      "execution_count": 0,
      "outputs": []
    },
    {
      "cell_type": "markdown",
      "metadata": {
        "id": "BSuPxRpr8Cxg",
        "colab_type": "text"
      },
      "source": [
        "### Removing a target column from the Serving schema"
      ]
    },
    {
      "cell_type": "code",
      "metadata": {
        "id": "8_H9a7WD7l3A",
        "colab_type": "code",
        "colab": {}
      },
      "source": [
        "tfdv.get_feature(schema, \"soot\").not_in_environment.append(\"SERVING\")"
      ],
      "execution_count": 0,
      "outputs": []
    },
    {
      "cell_type": "markdown",
      "metadata": {
        "id": "QonMtSXb8KWY",
        "colab_type": "text"
      },
      "source": [
        "### Checking for anomalies between the SERVING environment and new test set"
      ]
    },
    {
      "cell_type": "code",
      "metadata": {
        "id": "ZXdZ9tk58Rh_",
        "colab_type": "code",
        "colab": {}
      },
      "source": [
        "serving_env_anomalies = tfdv.validate_statistics(test_set_copy_stats, schema, environment=\"SERVING\")"
      ],
      "execution_count": 0,
      "outputs": []
    },
    {
      "cell_type": "code",
      "metadata": {
        "id": "05jDXv8o_J0O",
        "colab_type": "code",
        "outputId": "0e2113c1-f2a9-4f42-d97d-4f4391ad8ce9",
        "colab": {
          "base_uri": "https://localhost:8080/",
          "height": 57
        }
      },
      "source": [
        "tfdv.display_anomalies(serving_env_anomalies)"
      ],
      "execution_count": 36,
      "outputs": [
        {
          "output_type": "display_data",
          "data": {
            "text/plain": [
              "<IPython.core.display.HTML object>"
            ],
            "text/html": [
              "<h4 style=\"color:green;\">No anomalies found.</h4>"
            ]
          },
          "metadata": {
            "tags": []
          }
        }
      ]
    },
    {
      "cell_type": "markdown",
      "metadata": {
        "id": "BImffNIhqNzz",
        "colab_type": "text"
      },
      "source": [
        "### Visalize data statistics - Google Chrome ONLY!"
      ]
    },
    {
      "cell_type": "code",
      "metadata": {
        "id": "CaAqZsP9xnMe",
        "colab_type": "code",
        "colab": {
          "base_uri": "https://localhost:8080/",
          "height": 54
        },
        "outputId": "7a02ea89-88fc-4660-b603-9939e6cfa986"
      },
      "source": [
        "tfdv.visualize_statistics(lhs_statistics=test_set_copy_stats,lhs_name='COPY',rhs_statistics=train_stats, rhs_name='ORG DATA')"
      ],
      "execution_count": 43,
      "outputs": [
        {
          "output_type": "display_data",
          "data": {
            "text/plain": [
              "<IPython.core.display.HTML object>"
            ],
            "text/html": [
              "<iframe id='facets-iframe' width=\"100%\" height=\"500px\"></iframe>\n",
              "        <script>\n",
              "        facets_iframe = document.getElementById('facets-iframe');\n",
              "        facets_html = '<link rel=\"import\" href=\"https://raw.githubusercontent.com/PAIR-code/facets/master/facets-dist/facets-jupyter.html\"><facets-overview proto-input=\"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\"></facets-overview>';\n",
              "        facets_iframe.srcdoc = facets_html;\n",
              "         facets_iframe.id = \"\";\n",
              "         setTimeout(() => {\n",
              "           facets_iframe.setAttribute('height', facets_iframe.contentWindow.document.body.offsetHeight + 'px')\n",
              "         }, 1500)\n",
              "         </script>"
            ]
          },
          "metadata": {
            "tags": []
          }
        }
      ]
    },
    {
      "cell_type": "code",
      "metadata": {
        "id": "vnlELv5C0K1B",
        "colab_type": "code",
        "colab": {
          "base_uri": "https://localhost:8080/",
          "height": 54
        },
        "outputId": "cd02676e-d994-4285-b213-5878c3764837"
      },
      "source": [
        "tfdv.visualize_statistics(test_set_copy_stats)"
      ],
      "execution_count": 44,
      "outputs": [
        {
          "output_type": "display_data",
          "data": {
            "text/plain": [
              "<IPython.core.display.HTML object>"
            ],
            "text/html": [
              "<iframe id='facets-iframe' width=\"100%\" height=\"500px\"></iframe>\n",
              "        <script>\n",
              "        facets_iframe = document.getElementById('facets-iframe');\n",
              "        facets_html = '<link rel=\"import\" href=\"https://raw.githubusercontent.com/PAIR-code/facets/master/facets-dist/facets-jupyter.html\"><facets-overview proto-input=\"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\"></facets-overview>';\n",
              "        facets_iframe.srcdoc = facets_html;\n",
              "         facets_iframe.id = \"\";\n",
              "         setTimeout(() => {\n",
              "           facets_iframe.setAttribute('height', facets_iframe.contentWindow.document.body.offsetHeight + 'px')\n",
              "         }, 1500)\n",
              "         </script>"
            ]
          },
          "metadata": {
            "tags": []
          }
        }
      ]
    },
    {
      "cell_type": "markdown",
      "metadata": {
        "id": "AuB4XN69v5Hv",
        "colab_type": "text"
      },
      "source": [
        "# Step 5: Freezing the Schema"
      ]
    },
    {
      "cell_type": "code",
      "metadata": {
        "id": "QS94JeG1wBOn",
        "colab_type": "code",
        "colab": {}
      },
      "source": [
        "tfdv.write_schema_text(schema=schema, output_path=\"polution_schema.pbtxt\")"
      ],
      "execution_count": 0,
      "outputs": []
    }
  ]
}