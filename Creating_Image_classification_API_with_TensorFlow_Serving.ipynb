{
  "nbformat": 4,
  "nbformat_minor": 0,
  "metadata": {
    "colab": {
      "name": "Creating Image classification API with TensorFlow Serving.ipynb",
      "provenance": [],
      "collapsed_sections": [],
      "include_colab_link": true
    },
    "kernelspec": {
      "name": "python3",
      "display_name": "Python 3"
    },
    "accelerator": "GPU"
  },
  "cells": [
    {
      "cell_type": "markdown",
      "metadata": {
        "id": "view-in-github",
        "colab_type": "text"
      },
      "source": [
        "<a href=\"https://colab.research.google.com/github/sergejhorvat/Tensorflow2.0_Udemy/blob/master/Creating_Image_classification_API_with_TensorFlow_Serving.ipynb\" target=\"_parent\"><img src=\"https://colab.research.google.com/assets/colab-badge.svg\" alt=\"Open In Colab\"/></a>"
      ]
    },
    {
      "cell_type": "markdown",
      "metadata": {
        "id": "yCrzPgLp7W1h",
        "colab_type": "text"
      },
      "source": [
        "## Stage 1: Install dependencies and setting up GPU environment"
      ]
    },
    {
      "cell_type": "code",
      "metadata": {
        "id": "w0KGbZuk7T7F",
        "colab_type": "code",
        "outputId": "c1717f90-2708-4a31-ec16-c5cbb509fb10",
        "colab": {
          "base_uri": "https://localhost:8080/",
          "height": 129
        }
      },
      "source": [
        "!echo \"deb [arch=amd64] http://storage.googleapis.com/tensorflow-serving-apt stable tensorflow-model-server tensorflow-model-server-universal\" | sudo tee /etc/apt/sources.list.d/tensorflow-serving.list && curl https://storage.googleapis.com/tensorflow-serving-apt/tensorflow-serving.release.pub.gpg | sudo apt-key add -"
      ],
      "execution_count": 1,
      "outputs": [
        {
          "output_type": "stream",
          "text": [
            "deb [arch=amd64] http://storage.googleapis.com/tensorflow-serving-apt stable tensorflow-model-server tensorflow-model-server-universal\n",
            "  % Total    % Received % Xferd  Average Speed   Time    Time     Time  Current\n",
            "                                 Dload  Upload   Total   Spent    Left  Speed\n",
            "\r  0     0    0     0    0     0      0      0 --:--:-- --:--:-- --:--:--     0\r100  2943  100  2943    0     0  19885      0 --:--:-- --:--:-- --:--:-- 19885\n",
            "OK\n"
          ],
          "name": "stdout"
        }
      ]
    },
    {
      "cell_type": "code",
      "metadata": {
        "id": "-AoEpKnD94Lj",
        "colab_type": "code",
        "outputId": "45b3ad40-637f-436d-eed8-a98426601c81",
        "colab": {
          "base_uri": "https://localhost:8080/",
          "height": 109
        }
      },
      "source": [
        "# Did not update properly, had issue with line !tail server.log\n",
        "#!apt-get update & apt-get install tensorflow-model-server\n",
        "\n",
        "# Alternative update procedure\n",
        "!apt-get install tensorflow-model-server\n",
        "# Command returned response that it installed new package:\n",
        "#The following NEW packages will be installed:\n",
        "#  tensorflow-model-server\n",
        "# 0 upgraded, 1 newly installed, 0 to remove and 128 not upgraded."
      ],
      "execution_count": 2,
      "outputs": [
        {
          "output_type": "stream",
          "text": [
            "Reading package lists... Done\n",
            "Building dependency tree       \n",
            "Reading state information... Done\n",
            "tensorflow-model-server is already the newest version (1.14.0).\n",
            "0 upgraded, 0 newly installed, 0 to remove and 128 not upgraded.\n"
          ],
          "name": "stdout"
        }
      ]
    },
    {
      "cell_type": "code",
      "metadata": {
        "id": "a1cAehxr-M9p",
        "colab_type": "code",
        "outputId": "66c25de1-6937-4434-eade-33b2bc930ed9",
        "colab": {
          "base_uri": "https://localhost:8080/",
          "height": 386
        }
      },
      "source": [
        "# TF 2.0 does not have great support for TF Serving yet!\n",
        "!pip install tensorflow-gpu==1.13.1"
      ],
      "execution_count": 5,
      "outputs": [
        {
          "output_type": "stream",
          "text": [
            "Requirement already satisfied: tensorflow-gpu==1.13.1 in /usr/local/lib/python3.6/dist-packages (1.13.1)\n",
            "Requirement already satisfied: tensorboard<1.14.0,>=1.13.0 in /usr/local/lib/python3.6/dist-packages (from tensorflow-gpu==1.13.1) (1.13.1)\n",
            "Requirement already satisfied: six>=1.10.0 in /usr/local/lib/python3.6/dist-packages (from tensorflow-gpu==1.13.1) (1.12.0)\n",
            "Requirement already satisfied: absl-py>=0.1.6 in /usr/local/lib/python3.6/dist-packages (from tensorflow-gpu==1.13.1) (0.8.0)\n",
            "Requirement already satisfied: keras-applications>=1.0.6 in /usr/local/lib/python3.6/dist-packages (from tensorflow-gpu==1.13.1) (1.0.8)\n",
            "Requirement already satisfied: keras-preprocessing>=1.0.5 in /usr/local/lib/python3.6/dist-packages (from tensorflow-gpu==1.13.1) (1.1.0)\n",
            "Requirement already satisfied: astor>=0.6.0 in /usr/local/lib/python3.6/dist-packages (from tensorflow-gpu==1.13.1) (0.8.0)\n",
            "Requirement already satisfied: wheel>=0.26 in /usr/local/lib/python3.6/dist-packages (from tensorflow-gpu==1.13.1) (0.33.6)\n",
            "Requirement already satisfied: tensorflow-estimator<1.14.0rc0,>=1.13.0 in /usr/local/lib/python3.6/dist-packages (from tensorflow-gpu==1.13.1) (1.13.0)\n",
            "Requirement already satisfied: protobuf>=3.6.1 in /usr/local/lib/python3.6/dist-packages (from tensorflow-gpu==1.13.1) (3.7.1)\n",
            "Requirement already satisfied: termcolor>=1.1.0 in /usr/local/lib/python3.6/dist-packages (from tensorflow-gpu==1.13.1) (1.1.0)\n",
            "Requirement already satisfied: grpcio>=1.8.6 in /usr/local/lib/python3.6/dist-packages (from tensorflow-gpu==1.13.1) (1.15.0)\n",
            "Requirement already satisfied: numpy>=1.13.3 in /usr/local/lib/python3.6/dist-packages (from tensorflow-gpu==1.13.1) (1.16.5)\n",
            "Requirement already satisfied: gast>=0.2.0 in /usr/local/lib/python3.6/dist-packages (from tensorflow-gpu==1.13.1) (0.2.2)\n",
            "Requirement already satisfied: werkzeug>=0.11.15 in /usr/local/lib/python3.6/dist-packages (from tensorboard<1.14.0,>=1.13.0->tensorflow-gpu==1.13.1) (0.15.6)\n",
            "Requirement already satisfied: markdown>=2.6.8 in /usr/local/lib/python3.6/dist-packages (from tensorboard<1.14.0,>=1.13.0->tensorflow-gpu==1.13.1) (3.1.1)\n",
            "Requirement already satisfied: h5py in /usr/local/lib/python3.6/dist-packages (from keras-applications>=1.0.6->tensorflow-gpu==1.13.1) (2.8.0)\n",
            "Requirement already satisfied: mock>=2.0.0 in /usr/local/lib/python3.6/dist-packages (from tensorflow-estimator<1.14.0rc0,>=1.13.0->tensorflow-gpu==1.13.1) (3.0.5)\n",
            "Requirement already satisfied: setuptools in /usr/local/lib/python3.6/dist-packages (from protobuf>=3.6.1->tensorflow-gpu==1.13.1) (41.2.0)\n"
          ],
          "name": "stdout"
        }
      ]
    },
    {
      "cell_type": "code",
      "metadata": {
        "id": "zfxOPCl7-Wp7",
        "colab_type": "code",
        "outputId": "ee793e6d-35e3-4d22-a597-2ed7f2f10297",
        "colab": {
          "base_uri": "https://localhost:8080/",
          "height": 129
        }
      },
      "source": [
        "!pip install requests"
      ],
      "execution_count": 6,
      "outputs": [
        {
          "output_type": "stream",
          "text": [
            "Requirement already satisfied: requests in /usr/local/lib/python3.6/dist-packages (2.21.0)\n",
            "Requirement already satisfied: chardet<3.1.0,>=3.0.2 in /usr/local/lib/python3.6/dist-packages (from requests) (3.0.4)\n",
            "Requirement already satisfied: urllib3<1.25,>=1.21.1 in /usr/local/lib/python3.6/dist-packages (from requests) (1.24.3)\n",
            "Requirement already satisfied: idna<2.9,>=2.5 in /usr/local/lib/python3.6/dist-packages (from requests) (2.8)\n",
            "Requirement already satisfied: certifi>=2017.4.17 in /usr/local/lib/python3.6/dist-packages (from requests) (2019.6.16)\n"
          ],
          "name": "stdout"
        }
      ]
    },
    {
      "cell_type": "markdown",
      "metadata": {
        "id": "qsgbM_R2-ud_",
        "colab_type": "text"
      },
      "source": [
        "## Stage 2: Import project dependencies"
      ]
    },
    {
      "cell_type": "code",
      "metadata": {
        "id": "Y3taHerg-nkS",
        "colab_type": "code",
        "outputId": "b9453f19-fa9a-40c8-d773-2dd20bc87ce9",
        "colab": {
          "base_uri": "https://localhost:8080/",
          "height": 35
        }
      },
      "source": [
        "import os\n",
        "import json\n",
        "import random\n",
        "import requests\n",
        "\n",
        "# Would not be realy used in this tutorial\n",
        "import subprocess\n",
        "import numpy as np\n",
        "import tensorflow as tf\n",
        "import matplotlib.pyplot as plt\n",
        "\n",
        "from tensorflow.keras.datasets import cifar10\n",
        "\n",
        "# Tell matplot lib that all visualization should be kept inside of it\n",
        "%matplotlib inline\n",
        "tf.__version__"
      ],
      "execution_count": 7,
      "outputs": [
        {
          "output_type": "execute_result",
          "data": {
            "text/plain": [
              "'1.13.1'"
            ]
          },
          "metadata": {
            "tags": []
          },
          "execution_count": 7
        }
      ]
    },
    {
      "cell_type": "markdown",
      "metadata": {
        "id": "90mWV1g6_TSt",
        "colab_type": "text"
      },
      "source": [
        "## Stage 3: Dataset preprocessing"
      ]
    },
    {
      "cell_type": "markdown",
      "metadata": {
        "id": "dJsURBeA_XEe",
        "colab_type": "text"
      },
      "source": [
        "### Loading the dataset"
      ]
    },
    {
      "cell_type": "code",
      "metadata": {
        "id": "FVgkziGT_RQZ",
        "colab_type": "code",
        "colab": {
          "base_uri": "https://localhost:8080/",
          "height": 90
        },
        "outputId": "8e9ab804-6cbb-4314-a2dd-24657ff69aa7"
      },
      "source": [
        "(X_train, y_train), (X_test, y_test) = cifar10.load_data()\n",
        "print(\"X_train shape: \" + str(X_train.shape))\n",
        "print(\"y_train shape: \" + str(y_train.shape))\n",
        "print(\"X_test shape: \" + str(X_test.shape))\n",
        "print(\"y_test shape: \" + str(y_test.shape))"
      ],
      "execution_count": 8,
      "outputs": [
        {
          "output_type": "stream",
          "text": [
            "X_train shape: (50000, 32, 32, 3)\n",
            "y_train shape: (50000, 1)\n",
            "X_test shape: (10000, 32, 32, 3)\n",
            "y_test shape: (10000, 1)\n"
          ],
          "name": "stdout"
        }
      ]
    },
    {
      "cell_type": "code",
      "metadata": {
        "id": "hqOyARxY_kC2",
        "colab_type": "code",
        "colab": {}
      },
      "source": [
        "# Class names can be found on CIFAR10 main page https://www.cs.toronto.edu/~kriz/cifar.html\n",
        "class_names = ['airplane', 'automobile', 'bird', 'cat', 'deer', 'dog', 'frog', 'horse', 'ship', 'truck']"
      ],
      "execution_count": 0,
      "outputs": []
    },
    {
      "cell_type": "markdown",
      "metadata": {
        "id": "B_adA5GI_ZGK",
        "colab_type": "text"
      },
      "source": [
        "### Image normalization"
      ]
    },
    {
      "cell_type": "code",
      "metadata": {
        "id": "VK4HUwLC_akD",
        "colab_type": "code",
        "colab": {}
      },
      "source": [
        "X_train = X_train / 255.0\n",
        "X_test = X_test / 255.0"
      ],
      "execution_count": 0,
      "outputs": []
    },
    {
      "cell_type": "code",
      "metadata": {
        "id": "Q2A1OrRg_bD8",
        "colab_type": "code",
        "outputId": "c6535e4a-5c7c-41f4-e7d4-f5c871b917e2",
        "colab": {
          "base_uri": "https://localhost:8080/",
          "height": 35
        }
      },
      "source": [
        "X_train.shape"
      ],
      "execution_count": 11,
      "outputs": [
        {
          "output_type": "execute_result",
          "data": {
            "text/plain": [
              "(50000, 32, 32, 3)"
            ]
          },
          "metadata": {
            "tags": []
          },
          "execution_count": 11
        }
      ]
    },
    {
      "cell_type": "markdown",
      "metadata": {
        "id": "xBfxxEmHLzkr",
        "colab_type": "text"
      },
      "source": [
        "Check the training data if it's normalized."
      ]
    },
    {
      "cell_type": "code",
      "metadata": {
        "id": "egUJqWPbMBac",
        "colab_type": "code",
        "colab": {
          "base_uri": "https://localhost:8080/",
          "height": 917
        },
        "outputId": "bcab552d-cee0-49b9-af22-5301f1833e97"
      },
      "source": [
        "# Take one image of size 32x32 pixels nad RGB chanells\n",
        "X_train[1]"
      ],
      "execution_count": 12,
      "outputs": [
        {
          "output_type": "execute_result",
          "data": {
            "text/plain": [
              "array([[[0.60392157, 0.69411765, 0.73333333],\n",
              "        [0.49411765, 0.5372549 , 0.53333333],\n",
              "        [0.41176471, 0.40784314, 0.37254902],\n",
              "        ...,\n",
              "        [0.35686275, 0.37254902, 0.27843137],\n",
              "        [0.34117647, 0.35294118, 0.27843137],\n",
              "        [0.30980392, 0.31764706, 0.2745098 ]],\n",
              "\n",
              "       [[0.54901961, 0.62745098, 0.6627451 ],\n",
              "        [0.56862745, 0.6       , 0.60392157],\n",
              "        [0.49019608, 0.49019608, 0.4627451 ],\n",
              "        ...,\n",
              "        [0.37647059, 0.38823529, 0.30588235],\n",
              "        [0.30196078, 0.31372549, 0.24313725],\n",
              "        [0.27843137, 0.28627451, 0.23921569]],\n",
              "\n",
              "       [[0.54901961, 0.60784314, 0.64313725],\n",
              "        [0.54509804, 0.57254902, 0.58431373],\n",
              "        [0.45098039, 0.45098039, 0.43921569],\n",
              "        ...,\n",
              "        [0.30980392, 0.32156863, 0.25098039],\n",
              "        [0.26666667, 0.2745098 , 0.21568627],\n",
              "        [0.2627451 , 0.27058824, 0.21568627]],\n",
              "\n",
              "       ...,\n",
              "\n",
              "       [[0.68627451, 0.65490196, 0.65098039],\n",
              "        [0.61176471, 0.60392157, 0.62745098],\n",
              "        [0.60392157, 0.62745098, 0.66666667],\n",
              "        ...,\n",
              "        [0.16470588, 0.13333333, 0.14117647],\n",
              "        [0.23921569, 0.20784314, 0.22352941],\n",
              "        [0.36470588, 0.3254902 , 0.35686275]],\n",
              "\n",
              "       [[0.64705882, 0.60392157, 0.50196078],\n",
              "        [0.61176471, 0.59607843, 0.50980392],\n",
              "        [0.62352941, 0.63137255, 0.55686275],\n",
              "        ...,\n",
              "        [0.40392157, 0.36470588, 0.37647059],\n",
              "        [0.48235294, 0.44705882, 0.47058824],\n",
              "        [0.51372549, 0.4745098 , 0.51372549]],\n",
              "\n",
              "       [[0.63921569, 0.58039216, 0.47058824],\n",
              "        [0.61960784, 0.58039216, 0.47843137],\n",
              "        [0.63921569, 0.61176471, 0.52156863],\n",
              "        ...,\n",
              "        [0.56078431, 0.52156863, 0.54509804],\n",
              "        [0.56078431, 0.5254902 , 0.55686275],\n",
              "        [0.56078431, 0.52156863, 0.56470588]]])"
            ]
          },
          "metadata": {
            "tags": []
          },
          "execution_count": 12
        }
      ]
    },
    {
      "cell_type": "markdown",
      "metadata": {
        "id": "HO6nL_9sBLPo",
        "colab_type": "text"
      },
      "source": [
        "## Stage 4: Defining the model\n",
        "\n",
        "NOTE: We are using the model from the Section for Convolutional neural networks"
      ]
    },
    {
      "cell_type": "code",
      "metadata": {
        "id": "FHyAvU8OA_aq",
        "colab_type": "code",
        "outputId": "98342f38-7a48-43af-c79f-879954703b61",
        "colab": {
          "base_uri": "https://localhost:8080/",
          "height": 92
        }
      },
      "source": [
        "model = tf.keras.models.Sequential()\n",
        "model.add(tf.keras.layers.Conv2D(filters=32, kernel_size=3, padding=\"same\", activation=\"relu\", input_shape=[32, 32, 3]))\n",
        "model.add(tf.keras.layers.Conv2D(filters=32, kernel_size=3, padding=\"same\", activation=\"relu\"))\n",
        "model.add(tf.keras.layers.MaxPool2D(pool_size=2, strides=2, padding='valid'))\n",
        "model.add(tf.keras.layers.Conv2D(filters=64, kernel_size=3, padding=\"same\", activation=\"relu\"))\n",
        "model.add(tf.keras.layers.Conv2D(filters=64, kernel_size=3, padding=\"same\", activation=\"relu\"))\n",
        "model.add(tf.keras.layers.MaxPool2D(pool_size=2, strides=2, padding='valid'))\n",
        "model.add(tf.keras.layers.Flatten())\n",
        "model.add(tf.keras.layers.Dense(units=128, activation='relu'))\n",
        "model.add(tf.keras.layers.Dense(units=10, activation='softmax'))"
      ],
      "execution_count": 13,
      "outputs": [
        {
          "output_type": "stream",
          "text": [
            "WARNING:tensorflow:From /usr/local/lib/python3.6/dist-packages/tensorflow/python/ops/resource_variable_ops.py:435: colocate_with (from tensorflow.python.framework.ops) is deprecated and will be removed in a future version.\n",
            "Instructions for updating:\n",
            "Colocations handled automatically by placer.\n"
          ],
          "name": "stdout"
        }
      ]
    },
    {
      "cell_type": "markdown",
      "metadata": {
        "id": "J-7vFhykBgMj",
        "colab_type": "text"
      },
      "source": [
        "### Compiling the model"
      ]
    },
    {
      "cell_type": "code",
      "metadata": {
        "id": "5nqrVFn3BkeS",
        "colab_type": "code",
        "colab": {}
      },
      "source": [
        "model.compile(optimizer='Adam',\n",
        "              # sparce_* is alternative for expensive one-hot class encoding methodology\n",
        "              loss='sparse_categorical_crossentropy', \n",
        "              metrics=['sparse_categorical_accuracy'])"
      ],
      "execution_count": 0,
      "outputs": []
    },
    {
      "cell_type": "markdown",
      "metadata": {
        "id": "JJ1X_hgBBmx9",
        "colab_type": "text"
      },
      "source": [
        "### Training the model"
      ]
    },
    {
      "cell_type": "code",
      "metadata": {
        "id": "I7FSeHUkBpUq",
        "colab_type": "code",
        "outputId": "4b101121-5c61-4b32-a3a8-54af46b91806",
        "colab": {
          "base_uri": "https://localhost:8080/",
          "height": 423
        }
      },
      "source": [
        "model.fit(X_train, \n",
        "          y_train, \n",
        "          batch_size=128, \n",
        "          epochs=10)"
      ],
      "execution_count": 15,
      "outputs": [
        {
          "output_type": "stream",
          "text": [
            "Epoch 1/10\n",
            "50000/50000 [==============================] - 12s 245us/sample - loss: 1.4477 - sparse_categorical_accuracy: 0.4820\n",
            "Epoch 2/10\n",
            "50000/50000 [==============================] - 11s 217us/sample - loss: 1.0213 - sparse_categorical_accuracy: 0.6431\n",
            "Epoch 3/10\n",
            "50000/50000 [==============================] - 11s 218us/sample - loss: 0.8432 - sparse_categorical_accuracy: 0.7073\n",
            "Epoch 4/10\n",
            "50000/50000 [==============================] - 11s 217us/sample - loss: 0.7252 - sparse_categorical_accuracy: 0.7479\n",
            "Epoch 5/10\n",
            "50000/50000 [==============================] - 11s 216us/sample - loss: 0.6293 - sparse_categorical_accuracy: 0.7804\n",
            "Epoch 6/10\n",
            "50000/50000 [==============================] - 11s 217us/sample - loss: 0.5436 - sparse_categorical_accuracy: 0.8102\n",
            "Epoch 7/10\n",
            "50000/50000 [==============================] - 11s 219us/sample - loss: 0.4614 - sparse_categorical_accuracy: 0.8378\n",
            "Epoch 8/10\n",
            "50000/50000 [==============================] - 11s 218us/sample - loss: 0.3855 - sparse_categorical_accuracy: 0.8654\n",
            "Epoch 9/10\n",
            "50000/50000 [==============================] - 11s 217us/sample - loss: 0.3187 - sparse_categorical_accuracy: 0.8891\n",
            "Epoch 10/10\n",
            "50000/50000 [==============================] - 11s 218us/sample - loss: 0.2492 - sparse_categorical_accuracy: 0.9127\n"
          ],
          "name": "stdout"
        },
        {
          "output_type": "execute_result",
          "data": {
            "text/plain": [
              "<tensorflow.python.keras.callbacks.History at 0x7f9f1ab83cf8>"
            ]
          },
          "metadata": {
            "tags": []
          },
          "execution_count": 15
        }
      ]
    },
    {
      "cell_type": "markdown",
      "metadata": {
        "id": "g6k_gnv5BqdT",
        "colab_type": "text"
      },
      "source": [
        "### Model evaluation"
      ]
    },
    {
      "cell_type": "code",
      "metadata": {
        "id": "l0nHalVeBtAy",
        "colab_type": "code",
        "outputId": "e0d58368-20b9-42ab-8595-2894a900d4f4",
        "colab": {
          "base_uri": "https://localhost:8080/",
          "height": 55
        }
      },
      "source": [
        "test_loss, test_accuracy = model.evaluate(X_test, y_test)"
      ],
      "execution_count": 16,
      "outputs": [
        {
          "output_type": "stream",
          "text": [
            "10000/10000 [==============================] - 2s 171us/sample - loss: 0.9525 - sparse_categorical_accuracy: 0.7427\n"
          ],
          "name": "stdout"
        }
      ]
    },
    {
      "cell_type": "code",
      "metadata": {
        "id": "u9q7jsTuBuxT",
        "colab_type": "code",
        "outputId": "d4327b42-0662-4998-b45d-34257bdea0de",
        "colab": {
          "base_uri": "https://localhost:8080/",
          "height": 35
        }
      },
      "source": [
        "print(\"Test accuracy is {}\".format(test_accuracy))"
      ],
      "execution_count": 17,
      "outputs": [
        {
          "output_type": "stream",
          "text": [
            "Test accuracy is 0.7426999807357788\n"
          ],
          "name": "stdout"
        }
      ]
    },
    {
      "cell_type": "markdown",
      "metadata": {
        "id": "945L3-2rDjFe",
        "colab_type": "text"
      },
      "source": [
        "## Stage 5: Saving the model for production"
      ]
    },
    {
      "cell_type": "markdown",
      "metadata": {
        "id": "5a5uCiniDmgY",
        "colab_type": "text"
      },
      "source": [
        "### Creating the directory for the model"
      ]
    },
    {
      "cell_type": "code",
      "metadata": {
        "id": "YonroqRrC3sM",
        "colab_type": "code",
        "colab": {}
      },
      "source": [
        "MODEL_DIR = \"model/\"\n",
        "version = 1"
      ],
      "execution_count": 0,
      "outputs": []
    },
    {
      "cell_type": "code",
      "metadata": {
        "id": "07NyMUGYEMNF",
        "colab_type": "code",
        "outputId": "d1a65718-e7b6-4f1c-95c9-df7e981d0044",
        "colab": {
          "base_uri": "https://localhost:8080/",
          "height": 35
        }
      },
      "source": [
        "export_path = os.path.join(MODEL_DIR, str(version))\n",
        "export_path"
      ],
      "execution_count": 19,
      "outputs": [
        {
          "output_type": "execute_result",
          "data": {
            "text/plain": [
              "'model/1'"
            ]
          },
          "metadata": {
            "tags": []
          },
          "execution_count": 19
        }
      ]
    },
    {
      "cell_type": "code",
      "metadata": {
        "id": "jln7YavbEczA",
        "colab_type": "code",
        "colab": {}
      },
      "source": [
        "# Ensure that path of model does not exists\n",
        "if os.path.isdir(export_path):\n",
        "  # bash to delete it rm(remove) -r(recursevly)\n",
        "    !rm -r {export_path}"
      ],
      "execution_count": 0,
      "outputs": []
    },
    {
      "cell_type": "markdown",
      "metadata": {
        "id": "0RA2HuIUDrDQ",
        "colab_type": "text"
      },
      "source": [
        "### Saving the model for the TensorFlow Serving\n",
        "\n",
        "For serving model in production additional informations are needed:\n",
        "\n",
        "\n",
        "*   Input to a model\n",
        "*   Outputs from model\n",
        "*   Location of the model\n",
        "\n",
        "\n",
        "Returns the TF session to be used by the backend:\n",
        "\n",
        "`tf.keras.backend.get_session()` \n",
        "\n",
        "\n",
        "Path to the model:\n",
        "\n",
        "`export_dir=export_path`\n",
        "\n",
        "\n",
        "\n",
        "Model needs to map model parts to individual keys:\n",
        "\n",
        "`inputs={\"input_image\":model.input}`\n",
        "\n",
        "\n",
        "Model can have multiple outputs, we will use dictionary comprihantion method.\n",
        "\n",
        "`outputs={t.name:t for t in model.outputs}`"
      ]
    },
    {
      "cell_type": "code",
      "metadata": {
        "id": "19DG8IkIDv4S",
        "colab_type": "code",
        "outputId": "d844ef06-0f0f-4ecf-c7ae-2e72e3a3ec92",
        "colab": {
          "base_uri": "https://localhost:8080/",
          "height": 202
        }
      },
      "source": [
        "tf.saved_model.simple_save(tf.keras.backend.get_session(), export_dir=export_path, inputs={\"input_image\":model.input}, outputs={t.name:t for t in model.outputs})"
      ],
      "execution_count": 21,
      "outputs": [
        {
          "output_type": "stream",
          "text": [
            "WARNING:tensorflow:From <ipython-input-21-f70a5d463003>:1: simple_save (from tensorflow.python.saved_model.simple_save) is deprecated and will be removed in a future version.\n",
            "Instructions for updating:\n",
            "This function will only be available through the v1 compatibility library as tf.compat.v1.saved_model.simple_save.\n",
            "WARNING:tensorflow:From /usr/local/lib/python3.6/dist-packages/tensorflow/python/saved_model/signature_def_utils_impl.py:205: build_tensor_info (from tensorflow.python.saved_model.utils_impl) is deprecated and will be removed in a future version.\n",
            "Instructions for updating:\n",
            "This function will only be available through the v1 compatibility library as tf.compat.v1.saved_model.utils.build_tensor_info or tf.compat.v1.saved_model.build_tensor_info.\n",
            "INFO:tensorflow:Assets added to graph.\n",
            "INFO:tensorflow:No assets to write.\n",
            "INFO:tensorflow:SavedModel written to: model/1/saved_model.pb\n"
          ],
          "name": "stdout"
        }
      ]
    },
    {
      "cell_type": "markdown",
      "metadata": {
        "id": "MUC91iGGQ1py",
        "colab_type": "text"
      },
      "source": [
        "Model directory and files have been created for serving. They can be found under files in model directory."
      ]
    },
    {
      "cell_type": "markdown",
      "metadata": {
        "id": "1o8BlXcBFvIm",
        "colab_type": "text"
      },
      "source": [
        "## Stage 6: Setting up the production environment"
      ]
    },
    {
      "cell_type": "markdown",
      "metadata": {
        "id": "rSFWzxOrF0ft",
        "colab_type": "text"
      },
      "source": [
        "### Exporting the MODEL_DIR to environment variables"
      ]
    },
    {
      "cell_type": "markdown",
      "metadata": {
        "id": "XIx-s3WJRJSh",
        "colab_type": "text"
      },
      "source": [
        "To serve it's needed to load the model and return inferentials.\n",
        "\n",
        "Environmental variables need to be setup, so the path can be accessed from anywhere from system. So TFS can easili can find it."
      ]
    },
    {
      "cell_type": "code",
      "metadata": {
        "id": "BS6wsQthLX_i",
        "colab_type": "code",
        "colab": {}
      },
      "source": [
        "os.environ['MODEL_DIR'] = os.path.abspath(MODEL_DIR)"
      ],
      "execution_count": 0,
      "outputs": []
    },
    {
      "cell_type": "markdown",
      "metadata": {
        "id": "8TXejqj5F5oj",
        "colab_type": "text"
      },
      "source": [
        "### Running the TensorFlow Serving REST API\n",
        "\n",
        "`%%bash` - to enter terminal mode of system\n",
        "\n",
        "  `-bg` run it in background\n",
        "  \n",
        "`nohup` - any command that follows it should be executed in the background as a service. So we can still interact with the notebook and command will kepp runin whole model structure in separate thread.\n",
        "\n",
        "`tensorflow_model_server` - TFS application to serve the model\n",
        "\n",
        "`--rest_api_port=8510`  - define a port for REST API serving of a model\n",
        "\n",
        "`--model_name=cifar10`  - custom name for this model , it will be reference\n",
        "\n",
        "`--model_base_path=\"${MODEL_DIR}\"` - our environmental variable for model path \n",
        "\n",
        "`>server,log 2>&1` - create logging for the server"
      ]
    },
    {
      "cell_type": "code",
      "metadata": {
        "id": "oWjUhJA4KGWy",
        "colab_type": "code",
        "outputId": "e57e3515-6aa7-45d6-80b0-cbb13c663c45",
        "colab": {
          "base_uri": "https://localhost:8080/",
          "height": 35
        }
      },
      "source": [
        "%%bash --bg\n",
        "nohup tensorflow_model_server --rest_api_port=8501 --model_name=cifar10 --model_base_path=\"${MODEL_DIR}\" >server.log 2>&1"
      ],
      "execution_count": 23,
      "outputs": [
        {
          "output_type": "stream",
          "text": [
            "Starting job # 0 in a separate thread.\n"
          ],
          "name": "stdout"
        }
      ]
    },
    {
      "cell_type": "markdown",
      "metadata": {
        "id": "VQ8a5QG1Tfcj",
        "colab_type": "text"
      },
      "source": [
        "To see the last lines from log file use system `tail` command. It will be last 10 lines, Refresh command to update. "
      ]
    },
    {
      "cell_type": "code",
      "metadata": {
        "id": "iPa7fGZ5NHL5",
        "colab_type": "code",
        "outputId": "77c723c1-8a7c-4d55-dcbb-8be57dedba81",
        "colab": {
          "base_uri": "https://localhost:8080/",
          "height": 221
        }
      },
      "source": [
        "!tail server.log"
      ],
      "execution_count": 26,
      "outputs": [
        {
          "output_type": "stream",
          "text": [
            "2019-09-30 08:57:15.842674: I external/org_tensorflow/tensorflow/cc/saved_model/reader.cc:54] Reading meta graph with tags { serve }\n",
            "2019-09-30 08:57:15.845862: I external/org_tensorflow/tensorflow/core/platform/cpu_feature_guard.cc:142] Your CPU supports instructions that this TensorFlow binary was not compiled to use: AVX2 FMA\n",
            "2019-09-30 08:57:15.865790: I external/org_tensorflow/tensorflow/cc/saved_model/loader.cc:202] Restoring SavedModel bundle.\n",
            "2019-09-30 08:57:15.902994: I external/org_tensorflow/tensorflow/cc/saved_model/loader.cc:311] SavedModel load for tags { serve }; Status: success. Took 63626 microseconds.\n",
            "2019-09-30 08:57:15.903054: I tensorflow_serving/servables/tensorflow/saved_model_warmup.cc:103] No warmup data file found at /content/model/1/assets.extra/tf_serving_warmup_requests\n",
            "2019-09-30 08:57:15.903130: I tensorflow_serving/core/loader_harness.cc:86] Successfully loaded servable version {name: cifar10 version: 1}\n",
            "2019-09-30 08:57:15.904673: I tensorflow_serving/model_servers/server.cc:324] Running gRPC ModelServer at 0.0.0.0:8500 ...\n",
            "[warn] getaddrinfo: address family for nodename not supported\n",
            "2019-09-30 08:57:15.905337: I tensorflow_serving/model_servers/server.cc:344] Exporting HTTP/REST API at:localhost:8501 ...\n",
            "[evhttp_server.cc : 239] RAW: Entering the event loop ...\n"
          ],
          "name": "stdout"
        }
      ]
    },
    {
      "cell_type": "markdown",
      "metadata": {
        "id": "ICEqKpKUOC2F",
        "colab_type": "text"
      },
      "source": [
        "## Stage 7: Creating the first POST request"
      ]
    },
    {
      "cell_type": "code",
      "metadata": {
        "id": "AvjZyyPIN3Zq",
        "colab_type": "code",
        "outputId": "a6e464b5-2ced-4cf0-9341-ec01bc0f3049",
        "colab": {
          "base_uri": "https://localhost:8080/",
          "height": 35
        }
      },
      "source": [
        "random_image = np.random.randint(0, len(X_test))\n",
        "random_image"
      ],
      "execution_count": 25,
      "outputs": [
        {
          "output_type": "execute_result",
          "data": {
            "text/plain": [
              "6279"
            ]
          },
          "metadata": {
            "tags": []
          },
          "execution_count": 25
        }
      ]
    },
    {
      "cell_type": "markdown",
      "metadata": {
        "id": "tqOfIBMNOK8p",
        "colab_type": "text"
      },
      "source": [
        "### Creating the JSON data object\n",
        "\n",
        "Transformation from Python (numpy) objects needs to be done to json objects so the information can be passed trought internet. (Boxing/Unboxing, serialization, marshaling/demarshaling).\n",
        "\n",
        "`json.dumps` - functio taked Python distionary and creates json object from it.\n",
        "\n",
        "`{\"signature_name\":\"serving_default\"}` - tag for TensorFlow Serving, it is needed to provide as a default configuration for TFS library.\n",
        "\n",
        "\n",
        "`\"instances\":[X_test[random_image].tolist()]}` - provide image list that we will sent to server. We are sending one random_image.\n",
        "\n",
        "Transformation from Python (numpy) objects needs to be done to json objects so the information can be passed trought internet. (Boxing/Unboxing).\n"
      ]
    },
    {
      "cell_type": "code",
      "metadata": {
        "id": "nB57JR6wONOI",
        "colab_type": "code",
        "colab": {}
      },
      "source": [
        "data = json.dumps({\"signature_name\":\"serving_default\", \"instances\":[X_test[random_image].tolist()]})"
      ],
      "execution_count": 0,
      "outputs": []
    },
    {
      "cell_type": "code",
      "metadata": {
        "id": "ez6JF3yIPdYZ",
        "colab_type": "code",
        "outputId": "dc563cd3-c843-4bc8-af88-7d209afc9b8a",
        "colab": {
          "base_uri": "https://localhost:8080/",
          "height": 55
        }
      },
      "source": [
        "data"
      ],
      "execution_count": 28,
      "outputs": [
        {
          "output_type": "execute_result",
          "data": {
            "text/plain": [
              "'{\"signature_name\": \"serving_default\", \"instances\": [[[[0.7098039215686275, 0.7411764705882353, 0.6627450980392157], [0.2627450980392157, 0.2627450980392157, 0.23137254901960785], [0.16470588235294117, 0.1568627450980392, 0.13333333333333333], [0.17254901960784313, 0.16470588235294117, 0.12941176470588237], [0.16862745098039217, 0.1568627450980392, 0.11764705882352941], [0.16862745098039217, 0.1607843137254902, 0.11372549019607843], [0.7019607843137254, 0.7176470588235294, 0.6274509803921569], [0.8313725490196079, 0.8588235294117647, 0.7450980392156863], [0.8470588235294118, 0.8627450980392157, 0.7647058823529411], [0.8509803921568627, 0.8666666666666667, 0.7686274509803922], [0.8509803921568627, 0.8666666666666667, 0.7686274509803922], [0.8549019607843137, 0.8705882352941177, 0.7725490196078432], [0.8666666666666667, 0.8823529411764706, 0.7843137254901961], [0.8666666666666667, 0.8823529411764706, 0.7803921568627451], [0.8627450980392157, 0.8823529411764706, 0.7647058823529411], [0.8627450980392157, 0.8823529411764706, 0.7647058823529411], [0.8705882352941177, 0.8901960784313725, 0.7725490196078432], [0.8588235294117647, 0.8823529411764706, 0.7647058823529411], [0.8470588235294118, 0.8784313725490196, 0.7607843137254902], [0.5019607843137255, 0.5294117647058824, 0.4666666666666667], [0.16862745098039217, 0.16470588235294117, 0.14901960784313725], [0.1607843137254902, 0.15294117647058825, 0.10588235294117647], [0.12549019607843137, 0.12549019607843137, 0.0784313725490196], [0.13725490196078433, 0.1411764705882353, 0.10196078431372549], [0.4549019607843137, 0.47843137254901963, 0.4117647058823529], [0.8, 0.8392156862745098, 0.7450980392156863], [0.7843137254901961, 0.8235294117647058, 0.7333333333333333], [0.7647058823529411, 0.8, 0.7176470588235294], [0.7450980392156863, 0.7803921568627451, 0.7019607843137254], [0.7333333333333333, 0.7686274509803922, 0.7019607843137254], [0.7176470588235294, 0.7529411764705882, 0.6862745098039216], [0.7019607843137254, 0.7372549019607844, 0.6705882352941176]], [[0.7137254901960784, 0.7450980392156863, 0.6627450980392157], [0.2627450980392157, 0.26666666666666666, 0.24313725490196078], [0.17647058823529413, 0.1803921568627451, 0.1607843137254902], [0.1843137254901961, 0.17647058823529413, 0.14901960784313725], [0.16862745098039217, 0.1568627450980392, 0.12941176470588237], [0.1568627450980392, 0.1450980392156863, 0.11372549019607843], [0.6823529411764706, 0.6980392156862745, 0.6196078431372549], [0.8352941176470589, 0.8588235294117647, 0.7529411764705882], [0.8470588235294118, 0.8627450980392157, 0.7647058823529411], [0.8509803921568627, 0.8666666666666667, 0.7686274509803922], [0.8509803921568627, 0.8666666666666667, 0.7686274509803922], [0.8549019607843137, 0.8705882352941177, 0.7725490196078432], [0.8666666666666667, 0.8823529411764706, 0.7843137254901961], [0.8666666666666667, 0.8823529411764706, 0.7803921568627451], [0.8627450980392157, 0.8823529411764706, 0.7647058823529411], [0.8627450980392157, 0.8823529411764706, 0.7647058823529411], [0.8705882352941177, 0.8901960784313725, 0.7725490196078432], [0.8627450980392157, 0.8823529411764706, 0.7647058823529411], [0.8588235294117647, 0.8901960784313725, 0.7725490196078432], [0.6078431372549019, 0.6352941176470588, 0.5725490196078431], [0.2235294117647059, 0.2196078431372549, 0.20392156862745098], [0.14901960784313725, 0.1411764705882353, 0.09803921568627451], [0.15294117647058825, 0.15294117647058825, 0.11764705882352941], [0.16862745098039217, 0.17254901960784313, 0.15294117647058825], [0.48627450980392156, 0.5058823529411764, 0.45098039215686275], [0.8, 0.8392156862745098, 0.7411764705882353], [0.7843137254901961, 0.8235294117647058, 0.7333333333333333], [0.7647058823529411, 0.8, 0.7176470588235294], [0.7450980392156863, 0.7803921568627451, 0.7019607843137254], [0.7333333333333333, 0.7686274509803922, 0.7019607843137254], [0.7176470588235294, 0.7529411764705882, 0.6862745098039216], [0.7019607843137254, 0.7372549019607844, 0.6705882352941176]], [[0.7176470588235294, 0.7490196078431373, 0.6705882352941176], [0.34509803921568627, 0.3568627450980392, 0.33725490196078434], [0.2, 0.20392156862745098, 0.2], [0.19607843137254902, 0.18823529411764706, 0.17647058823529413], [0.1843137254901961, 0.16862745098039217, 0.1568627450980392], [0.16470588235294117, 0.1568627450980392, 0.13333333333333333], [0.6705882352941176, 0.6823529411764706, 0.615686274509804], [0.8352941176470589, 0.8588235294117647, 0.7607843137254902], [0.8470588235294118, 0.8588235294117647, 0.7607843137254902], [0.8509803921568627, 0.8666666666666667, 0.7686274509803922], [0.8509803921568627, 0.8666666666666667, 0.7686274509803922], [0.8549019607843137, 0.8705882352941177, 0.7725490196078432], [0.8666666666666667, 0.8823529411764706, 0.7843137254901961], [0.8666666666666667, 0.8823529411764706, 0.7803921568627451], [0.8705882352941177, 0.8862745098039215, 0.7725490196078432], [0.8705882352941177, 0.8901960784313725, 0.7725490196078432], [0.8705882352941177, 0.8901960784313725, 0.7725490196078432], [0.8627450980392157, 0.8823529411764706, 0.7647058823529411], [0.8392156862745098, 0.8745098039215686, 0.7529411764705882], [0.7098039215686275, 0.7372549019607844, 0.6745098039215687], [0.25882352941176473, 0.2549019607843137, 0.23921568627450981], [0.09803921568627451, 0.09019607843137255, 0.043137254901960784], [0.0784313725490196, 0.0784313725490196, 0.0392156862745098], [0.10196078431372549, 0.10588235294117647, 0.0784313725490196], [0.4627450980392157, 0.48627450980392156, 0.42745098039215684], [0.8, 0.8392156862745098, 0.7450980392156863], [0.7843137254901961, 0.8235294117647058, 0.7333333333333333], [0.7647058823529411, 0.8, 0.7176470588235294], [0.7450980392156863, 0.7803921568627451, 0.7019607843137254], [0.7333333333333333, 0.7686274509803922, 0.7019607843137254], [0.7176470588235294, 0.7529411764705882, 0.6862745098039216], [0.7019607843137254, 0.7372549019607844, 0.6705882352941176]], [[0.7254901960784313, 0.7529411764705882, 0.6745098039215687], [0.5176470588235295, 0.5333333333333333, 0.5215686274509804], [0.27058823529411763, 0.28627450980392155, 0.28627450980392155], [0.18823529411764706, 0.17647058823529413, 0.17647058823529413], [0.17647058823529413, 0.1568627450980392, 0.1568627450980392], [0.1568627450980392, 0.1411764705882353, 0.13333333333333333], [0.6627450980392157, 0.6705882352941176, 0.615686274509804], [0.8352941176470589, 0.8588235294117647, 0.7647058823529411], [0.8470588235294118, 0.8627450980392157, 0.7647058823529411], [0.8509803921568627, 0.8666666666666667, 0.7725490196078432], [0.8509803921568627, 0.8666666666666667, 0.7725490196078432], [0.8549019607843137, 0.8705882352941177, 0.7725490196078432], [0.8666666666666667, 0.8823529411764706, 0.788235294117647], [0.8705882352941177, 0.8862745098039215, 0.788235294117647], [0.8705882352941177, 0.8901960784313725, 0.7725490196078432], [0.8666666666666667, 0.8901960784313725, 0.7725490196078432], [0.8705882352941177, 0.8901960784313725, 0.7725490196078432], [0.8627450980392157, 0.8784313725490196, 0.7607843137254902], [0.8509803921568627, 0.8823529411764706, 0.7647058823529411], [0.596078431372549, 0.6235294117647059, 0.5686274509803921], [0.2901960784313726, 0.28627450980392155, 0.2784313725490196], [0.27450980392156865, 0.2627450980392157, 0.2235294117647059], [0.3058823529411765, 0.3058823529411765, 0.2549019607843137], [0.3411764705882353, 0.34509803921568627, 0.29411764705882354], [0.5647058823529412, 0.5882352941176471, 0.5137254901960784], [0.796078431372549, 0.8352941176470589, 0.7411764705882353], [0.7843137254901961, 0.8235294117647058, 0.7333333333333333], [0.7647058823529411, 0.8, 0.7176470588235294], [0.7450980392156863, 0.7803921568627451, 0.7019607843137254], [0.7333333333333333, 0.7686274509803922, 0.7019607843137254], [0.7176470588235294, 0.7529411764705882, 0.6862745098039216], [0.7019607843137254, 0.7372549019607844, 0.6705882352941176]], [[0.7254901960784313, 0.7568627450980392, 0.6745098039215687], [0.47058823529411764, 0.49019607843137253, 0.4666666666666667], [0.2784313725490196, 0.29411764705882354, 0.28627450980392155], [0.24313725490196078, 0.24705882352941178, 0.23529411764705882], [0.26666666666666666, 0.26666666666666666, 0.23921568627450981], [0.2980392156862745, 0.30196078431372547, 0.2627450980392157], [0.6901960784313725, 0.7098039215686275, 0.6352941176470588], [0.8431372549019608, 0.8666666666666667, 0.7568627450980392], [0.8431372549019608, 0.8588235294117647, 0.7490196078431373], [0.8509803921568627, 0.8666666666666667, 0.7568627450980392], [0.8470588235294118, 0.8666666666666667, 0.7529411764705882], [0.8509803921568627, 0.8745098039215686, 0.7568627450980392], [0.8509803921568627, 0.8705882352941177, 0.7568627450980392], [0.8509803921568627, 0.8705882352941177, 0.7568627450980392], [0.8666666666666667, 0.8823529411764706, 0.7764705882352941], [0.8823529411764706, 0.8941176470588236, 0.7764705882352941], [0.8745098039215686, 0.8901960784313725, 0.7725490196078432], [0.8588235294117647, 0.8862745098039215, 0.7725490196078432], [0.8431372549019608, 0.8784313725490196, 0.7568627450980392], [0.792156862745098, 0.807843137254902, 0.7176470588235294], [0.7568627450980392, 0.7607843137254902, 0.6980392156862745], [0.7803921568627451, 0.7843137254901961, 0.7058823529411765], [0.796078431372549, 0.8117647058823529, 0.7294117647058823], [0.8, 0.8196078431372549, 0.7411764705882353], [0.792156862745098, 0.8196078431372549, 0.7372549019607844], [0.796078431372549, 0.8313725490196079, 0.7411764705882353], [0.788235294117647, 0.8235294117647058, 0.7372549019607844], [0.7686274509803922, 0.803921568627451, 0.7215686274509804], [0.7490196078431373, 0.7843137254901961, 0.7058823529411765], [0.7372549019607844, 0.7725490196078432, 0.7058823529411765], [0.7215686274509804, 0.7568627450980392, 0.6901960784313725], [0.7019607843137254, 0.7372549019607844, 0.6745098039215687]], [[0.7372549019607844, 0.7647058823529411, 0.6862745098039216], [0.615686274509804, 0.6431372549019608, 0.5882352941176471], [0.6392156862745098, 0.6627450980392157, 0.615686274509804], [0.6784313725490196, 0.7058823529411765, 0.6588235294117647], [0.7176470588235294, 0.7450980392156863, 0.6705882352941176], [0.7568627450980392, 0.788235294117647, 0.7019607843137254], [0.807843137254902, 0.8431372549019608, 0.7333333333333333], [0.8352941176470589, 0.8627450980392157, 0.7411764705882353], [0.8352941176470589, 0.8509803921568627, 0.7411764705882353], [0.8470588235294118, 0.8666666666666667, 0.7529411764705882], [0.8235294117647058, 0.8470588235294118, 0.7333333333333333], [0.7725490196078432, 0.8, 0.6823529411764706], [0.7803921568627451, 0.803921568627451, 0.6901960784313725], [0.7843137254901961, 0.8117647058823529, 0.6980392156862745], [0.796078431372549, 0.8117647058823529, 0.7215686274509804], [0.8470588235294118, 0.8470588235294118, 0.7411764705882353], [0.8745098039215686, 0.8862745098039215, 0.7686274509803922], [0.8549019607843137, 0.8901960784313725, 0.7764705882352941], [0.8470588235294118, 0.8745098039215686, 0.7529411764705882], [0.8549019607843137, 0.8666666666666667, 0.7490196078431373], [0.8431372549019608, 0.8627450980392157, 0.7372549019607844], [0.8313725490196079, 0.8509803921568627, 0.7294117647058823], [0.8196078431372549, 0.8470588235294118, 0.7450980392156863], [0.807843137254902, 0.8392156862745098, 0.7490196078431373], [0.807843137254902, 0.8392156862745098, 0.7529411764705882], [0.796078431372549, 0.8274509803921568, 0.7450980392156863], [0.788235294117647, 0.8235294117647058, 0.7411764705882353], [0.7686274509803922, 0.803921568627451, 0.7215686274509804], [0.7529411764705882, 0.788235294117647, 0.7098039215686275], [0.7411764705882353, 0.7764705882352941, 0.7098039215686275], [0.7254901960784313, 0.7607843137254902, 0.6901960784313725], [0.7019607843137254, 0.7372549019607844, 0.6745098039215687]], [[0.7372549019607844, 0.7686274509803922, 0.6862745098039216], [0.7568627450980392, 0.788235294117647, 0.7019607843137254], [0.7803921568627451, 0.8117647058823529, 0.7254901960784313], [0.796078431372549, 0.8274509803921568, 0.7450980392156863], [0.8, 0.8313725490196079, 0.7372549019607844], [0.8, 0.8352941176470589, 0.7372549019607844], [0.8196078431372549, 0.8509803921568627, 0.7450980392156863], [0.8352941176470589, 0.8627450980392157, 0.7607843137254902], [0.8235294117647058, 0.8392156862745098, 0.7607843137254902], [0.7137254901960784, 0.7333333333333333, 0.6627450980392157], [0.6901960784313725, 0.7176470588235294, 0.6549019607843137], [0.6470588235294118, 0.6784313725490196, 0.615686274509804], [0.6392156862745098, 0.6705882352941176, 0.611764705882353], [0.6431372549019608, 0.6745098039215687, 0.615686274509804], [0.6862745098039216, 0.7176470588235294, 0.6549019607843137], [0.6862745098039216, 0.6941176470588235, 0.615686274509804], [0.8117647058823529, 0.8117647058823529, 0.7098039215686275], [0.8549019607843137, 0.8823529411764706, 0.7607843137254902], [0.8549019607843137, 0.8705882352941177, 0.7568627450980392], [0.8274509803921568, 0.8588235294117647, 0.7411764705882353], [0.8235294117647058, 0.8470588235294118, 0.7294117647058823], [0.8235294117647058, 0.8431372549019608, 0.7254901960784313], [0.8235294117647058, 0.8509803921568627, 0.7490196078431373], [0.8196078431372549, 0.8509803921568627, 0.7607843137254902], [0.803921568627451, 0.8352941176470589, 0.7490196078431373], [0.8, 0.8313725490196079, 0.7490196078431373], [0.7843137254901961, 0.8196078431372549, 0.7372549019607844], [0.7686274509803922, 0.803921568627451, 0.7215686274509804], [0.7529411764705882, 0.788235294117647, 0.7098039215686275], [0.7411764705882353, 0.7764705882352941, 0.7098039215686275], [0.7254901960784313, 0.7607843137254902, 0.6901960784313725], [0.7019607843137254, 0.7372549019607844, 0.6745098039215687]], [[0.7372549019607844, 0.7686274509803922, 0.6862745098039216], [0.7490196078431373, 0.7843137254901961, 0.6862745098039216], [0.7529411764705882, 0.7843137254901961, 0.6862745098039216], [0.7725490196078432, 0.803921568627451, 0.6980392156862745], [0.7843137254901961, 0.8196078431372549, 0.7137254901960784], [0.807843137254902, 0.8392156862745098, 0.7490196078431373], [0.803921568627451, 0.8352941176470589, 0.7490196078431373], [0.7176470588235294, 0.7411764705882353, 0.6823529411764706], [0.5215686274509804, 0.5411764705882353, 0.5058823529411764], [0.4627450980392157, 0.48627450980392156, 0.4549019607843137], [0.796078431372549, 0.8274509803921568, 0.803921568627451], [0.5215686274509804, 0.5568627450980392, 0.5372549019607843], [0.4549019607843137, 0.4980392156862745, 0.49019607843137253], [0.4470588235294118, 0.49411764705882355, 0.48627450980392156], [0.4627450980392157, 0.5098039215686274, 0.48627450980392156], [0.4196078431372549, 0.4392156862745098, 0.4], [0.5725490196078431, 0.5803921568627451, 0.5098039215686274], [0.8196078431372549, 0.8549019607843137, 0.7411764705882353], [0.8588235294117647, 0.8862745098039215, 0.7803921568627451], [0.8235294117647058, 0.8627450980392157, 0.7529411764705882], [0.8431372549019608, 0.8705882352941177, 0.7529411764705882], [0.8431372549019608, 0.8627450980392157, 0.7450980392156863], [0.8313725490196079, 0.8588235294117647, 0.7607843137254902], [0.8235294117647058, 0.8549019607843137, 0.7647058823529411], [0.8117647058823529, 0.8431372549019608, 0.7568627450980392], [0.8117647058823529, 0.8431372549019608, 0.7607843137254902], [0.788235294117647, 0.8196078431372549, 0.7372549019607844], [0.7686274509803922, 0.803921568627451, 0.7215686274509804], [0.7529411764705882, 0.788235294117647, 0.7098039215686275], [0.7411764705882353, 0.7764705882352941, 0.7098039215686275], [0.7254901960784313, 0.7607843137254902, 0.6901960784313725], [0.7019607843137254, 0.7372549019607844, 0.6745098039215687]], [[0.7372549019607844, 0.7686274509803922, 0.6862745098039216], [0.7568627450980392, 0.788235294117647, 0.6941176470588235], [0.7725490196078432, 0.807843137254902, 0.7098039215686275], [0.796078431372549, 0.8274509803921568, 0.7294117647058823], [0.803921568627451, 0.8313725490196079, 0.7529411764705882], [0.7254901960784313, 0.7490196078431373, 0.6980392156862745], [0.4823529411764706, 0.5019607843137255, 0.47058823529411764], [0.37254901960784315, 0.396078431372549, 0.38823529411764707], [0.4, 0.4235294117647059, 0.4235294117647059], [0.5137254901960784, 0.5450980392156862, 0.5411764705882353], [0.8784313725490196, 0.9215686274509803, 0.9098039215686274], [0.5450980392156862, 0.592156862745098, 0.5843137254901961], [0.4823529411764706, 0.5450980392156862, 0.5450980392156862], [0.4392156862745098, 0.5019607843137255, 0.5058823529411764], [0.3803921568627451, 0.4392156862745098, 0.4470588235294118], [0.37254901960784315, 0.4117647058823529, 0.40784313725490196], [0.39215686274509803, 0.43137254901960786, 0.403921568627451], [0.6196078431372549, 0.6862745098039216, 0.6039215686274509], [0.7843137254901961, 0.8509803921568627, 0.7450980392156863], [0.8392156862745098, 0.8666666666666667, 0.7725490196078432], [0.8392156862745098, 0.8588235294117647, 0.7490196078431373], [0.8313725490196079, 0.8509803921568627, 0.7333333333333333], [0.8235294117647058, 0.8509803921568627, 0.7490196078431373], [0.8156862745098039, 0.8470588235294118, 0.7568627450980392], [0.807843137254902, 0.8392156862745098, 0.7529411764705882], [0.803921568627451, 0.8352941176470589, 0.7529411764705882], [0.788235294117647, 0.8196078431372549, 0.7372549019607844], [0.7686274509803922, 0.803921568627451, 0.7215686274509804], [0.7529411764705882, 0.788235294117647, 0.7098039215686275], [0.7411764705882353, 0.7764705882352941, 0.7098039215686275], [0.7254901960784313, 0.7607843137254902, 0.6901960784313725], [0.7019607843137254, 0.7372549019607844, 0.6745098039215687]], [[0.7372549019607844, 0.7686274509803922, 0.6862745098039216], [0.7568627450980392, 0.7843137254901961, 0.7058823529411765], [0.7411764705882353, 0.7725490196078432, 0.6980392156862745], [0.6549019607843137, 0.6862745098039216, 0.6078431372549019], [0.5490196078431373, 0.5725490196078431, 0.5254901960784314], [0.38823529411764707, 0.40784313725490196, 0.38823529411764707], [0.34509803921568627, 0.3607843137254902, 0.3764705882352941], [0.41568627450980394, 0.43529411764705883, 0.4588235294117647], [0.44313725490196076, 0.47058823529411764, 0.48627450980392156], [0.5607843137254902, 0.596078431372549, 0.6], [0.8862745098039215, 0.9254901960784314, 0.9137254901960784], [0.5725490196078431, 0.6274509803921569, 0.611764705882353], [0.48627450980392156, 0.5607843137254902, 0.5568627450980392], [0.43529411764705883, 0.5137254901960784, 0.5137254901960784], [0.47843137254901963, 0.5490196078431373, 0.5725490196078431], [0.4745098039215686, 0.5215686274509804, 0.5372549019607843], [0.4, 0.4627450980392157, 0.4745098039215686], [0.43529411764705883, 0.5333333333333333, 0.47843137254901963], [0.5803921568627451, 0.6862745098039216, 0.5803921568627451], [0.8156862745098039, 0.8392156862745098, 0.7529411764705882], [0.8588235294117647, 0.8666666666666667, 0.7607843137254902], [0.8392156862745098, 0.8588235294117647, 0.7411764705882353], [0.8313725490196079, 0.8588235294117647, 0.7568627450980392], [0.8196078431372549, 0.8509803921568627, 0.7607843137254902], [0.803921568627451, 0.8352941176470589, 0.7490196078431373], [0.7764705882352941, 0.807843137254902, 0.7254901960784313], [0.7764705882352941, 0.807843137254902, 0.7254901960784313], [0.7686274509803922, 0.803921568627451, 0.7215686274509804], [0.7529411764705882, 0.788235294117647, 0.7098039215686275], [0.7372549019607844, 0.7725490196078432, 0.7058823529411765], [0.7215686274509804, 0.7568627450980392, 0.6901960784313725], [0.7019607843137254, 0.7372549019607844, 0.6745098039215687]], [[0.7450980392156863, 0.7764705882352941, 0.6941176470588235], [0.7215686274509804, 0.7529411764705882, 0.6901960784313725], [0.4627450980392157, 0.48627450980392156, 0.47843137254901963], [0.4117647058823529, 0.4470588235294118, 0.4235294117647059], [0.396078431372549, 0.43529411764705883, 0.403921568627451], [0.3254901960784314, 0.36470588235294116, 0.34509803921568627], [0.4, 0.44313725490196076, 0.43529411764705883], [0.4117647058823529, 0.44313725490196076, 0.4392156862745098], [0.4117647058823529, 0.4392156862745098, 0.43529411764705883], [0.6745098039215687, 0.6941176470588235, 0.6901960784313725], [0.9098039215686274, 0.9294117647058824, 0.9215686274509803], [0.5411764705882353, 0.596078431372549, 0.5843137254901961], [0.5137254901960784, 0.6078431372549019, 0.596078431372549], [0.4980392156862745, 0.5882352941176471, 0.5764705882352941], [0.5098039215686274, 0.5882352941176471, 0.5725490196078431], [0.4980392156862745, 0.5686274509803921, 0.5529411764705883], [0.4588235294117647, 0.5254901960784314, 0.5137254901960784], [0.4, 0.4666666666666667, 0.4470588235294118], [0.47058823529411764, 0.5529411764705883, 0.5019607843137255], [0.5764705882352941, 0.6627450980392157, 0.5843137254901961], [0.7686274509803922, 0.792156862745098, 0.6941176470588235], [0.807843137254902, 0.8235294117647058, 0.7176470588235294], [0.8, 0.8196078431372549, 0.7254901960784313], [0.8, 0.8196078431372549, 0.7333333333333333], [0.8156862745098039, 0.8352941176470589, 0.7529411764705882], [0.796078431372549, 0.8156862745098039, 0.7333333333333333], [0.7725490196078432, 0.796078431372549, 0.7137254901960784], [0.7607843137254902, 0.8, 0.7058823529411765], [0.7490196078431373, 0.788235294117647, 0.6980392156862745], [0.7294117647058823, 0.7647058823529411, 0.6980392156862745], [0.7215686274509804, 0.7568627450980392, 0.6901960784313725], [0.7098039215686275, 0.7411764705882353, 0.6862745098039216]], [[0.7411764705882353, 0.7725490196078432, 0.6901960784313725], [0.6509803921568628, 0.6901960784313725, 0.6274509803921569], [0.5019607843137255, 0.5333333333333333, 0.5254901960784314], [0.5647058823529412, 0.6039215686274509, 0.5843137254901961], [0.592156862745098, 0.6352941176470588, 0.6039215686274509], [0.5686274509803921, 0.611764705882353, 0.592156862745098], [0.5176470588235295, 0.5647058823529412, 0.5490196078431373], [0.44313725490196076, 0.48627450980392156, 0.47058823529411764], [0.43529411764705883, 0.47843137254901963, 0.4627450980392157], [0.6980392156862745, 0.7333333333333333, 0.7215686274509804], [0.8627450980392157, 0.8980392156862745, 0.8862745098039215], [0.5450980392156862, 0.611764705882353, 0.592156862745098], [0.5764705882352941, 0.6627450980392157, 0.6431372549019608], [0.6313725490196078, 0.7137254901960784, 0.6941176470588235], [0.615686274509804, 0.7019607843137254, 0.6745098039215687], [0.596078431372549, 0.6823529411764706, 0.6509803921568628], [0.5372549019607843, 0.6, 0.5764705882352941], [0.49019607843137253, 0.5450980392156862, 0.5294117647058824], [0.44313725490196076, 0.5098039215686274, 0.4745098039215686], [0.41568627450980394, 0.5019607843137255, 0.4392156862745098], [0.49411764705882355, 0.5176470588235295, 0.4470588235294118], [0.5411764705882353, 0.5529411764705883, 0.4823529411764706], [0.6235294117647059, 0.6392156862745098, 0.5686274509803921], [0.6313725490196078, 0.6549019607843137, 0.5803921568627451], [0.7098039215686275, 0.7333333333333333, 0.6509803921568628], [0.7764705882352941, 0.803921568627451, 0.7137254901960784], [0.792156862745098, 0.8196078431372549, 0.7294117647058823], [0.7647058823529411, 0.803921568627451, 0.7058823529411765], [0.7529411764705882, 0.792156862745098, 0.7019607843137254], [0.7372549019607844, 0.7725490196078432, 0.7058823529411765], [0.7254901960784313, 0.7607843137254902, 0.6941176470588235], [0.7098039215686275, 0.7411764705882353, 0.6901960784313725]], [[0.7372549019607844, 0.7686274509803922, 0.6862745098039216], [0.7333333333333333, 0.7764705882352941, 0.7215686274509804], [0.7843137254901961, 0.8274509803921568, 0.807843137254902], [0.807843137254902, 0.8509803921568627, 0.8274509803921568], [0.8117647058823529, 0.8549019607843137, 0.8235294117647058], [0.8313725490196079, 0.8705882352941177, 0.8509803921568627], [0.8509803921568627, 0.8862745098039215, 0.8745098039215686], [0.8235294117647058, 0.8705882352941177, 0.8549019607843137], [0.7294117647058823, 0.7843137254901961, 0.7686274509803922], [0.6784313725490196, 0.7294117647058823, 0.7137254901960784], [0.6705882352941176, 0.7254901960784313, 0.7058823529411765], [0.5490196078431373, 0.6235294117647059, 0.596078431372549], [0.5490196078431373, 0.6196078431372549, 0.596078431372549], [0.6, 0.6705882352941176, 0.6470588235294118], [0.6039215686274509, 0.6941176470588235, 0.6627450980392157], [0.6784313725490196, 0.7686274509803922, 0.7372549019607844], [0.7411764705882353, 0.796078431372549, 0.7725490196078432], [0.615686274509804, 0.6666666666666666, 0.6431372549019608], [0.5058823529411764, 0.5647058823529412, 0.5372549019607843], [0.40784313725490196, 0.4823529411764706, 0.42745098039215684], [0.3843137254901961, 0.403921568627451, 0.3686274509803922], [0.34901960784313724, 0.3607843137254902, 0.32941176470588235], [0.5647058823529412, 0.592156862745098, 0.5450980392156862], [0.5764705882352941, 0.611764705882353, 0.5529411764705883], [0.6352941176470588, 0.6705882352941176, 0.592156862745098], [0.6901960784313725, 0.7294117647058823, 0.6313725490196078], [0.7529411764705882, 0.792156862745098, 0.7019607843137254], [0.7725490196078432, 0.807843137254902, 0.7254901960784313], [0.7568627450980392, 0.792156862745098, 0.7137254901960784], [0.7450980392156863, 0.7803921568627451, 0.7137254901960784], [0.7294117647058823, 0.7647058823529411, 0.7019607843137254], [0.7058823529411765, 0.7372549019607844, 0.6862745098039216]], [[0.7372549019607844, 0.7686274509803922, 0.6901960784313725], [0.8117647058823529, 0.8666666666666667, 0.8196078431372549], [0.8509803921568627, 0.9058823529411765, 0.8745098039215686], [0.9058823529411765, 0.9490196078431372, 0.9215686274509803], [0.9254901960784314, 0.9686274509803922, 0.9372549019607843], [0.9490196078431372, 0.9764705882352941, 0.9607843137254902], [0.9607843137254902, 0.9803921568627451, 0.9764705882352941], [0.9607843137254902, 0.9882352941176471, 0.9803921568627451], [0.9607843137254902, 0.996078431372549, 0.9882352941176471], [0.9372549019607843, 0.9686274509803922, 0.9607843137254902], [0.8470588235294118, 0.8862745098039215, 0.8745098039215686], [0.8196078431372549, 0.8705882352941177, 0.8509803921568627], [0.7568627450980392, 0.8, 0.7803921568627451], [0.6823529411764706, 0.7294117647058823, 0.7098039215686275], [0.6235294117647059, 0.6862745098039216, 0.6666666666666666], [0.6235294117647059, 0.6862745098039216, 0.6627450980392157], [0.6039215686274509, 0.6470588235294118, 0.615686274509804], [0.5215686274509804, 0.5607843137254902, 0.5294117647058824], [0.5372549019607843, 0.5803921568627451, 0.5686274509803921], [0.4627450980392157, 0.5294117647058824, 0.49019607843137253], [0.47058823529411764, 0.4980392156862745, 0.4745098039215686], [0.5137254901960784, 0.5333333333333333, 0.5176470588235295], [0.5411764705882353, 0.5725490196078431, 0.5411764705882353], [0.5764705882352941, 0.615686274509804, 0.5764705882352941], [0.6392156862745098, 0.6823529411764706, 0.6235294117647059], [0.615686274509804, 0.6627450980392157, 0.5843137254901961], [0.6509803921568628, 0.6941176470588235, 0.615686274509804], [0.7372549019607844, 0.7725490196078432, 0.7019607843137254], [0.7607843137254902, 0.796078431372549, 0.7254901960784313], [0.7450980392156863, 0.7803921568627451, 0.7137254901960784], [0.7294117647058823, 0.7647058823529411, 0.6980392156862745], [0.7019607843137254, 0.7333333333333333, 0.6823529411764706]], [[0.7333333333333333, 0.7686274509803922, 0.6862745098039216], [0.792156862745098, 0.8509803921568627, 0.8117647058823529], [0.8196078431372549, 0.8862745098039215, 0.8470588235294118], [0.8705882352941177, 0.9137254901960784, 0.8823529411764706], [0.9215686274509803, 0.9607843137254902, 0.9333333333333333], [0.9647058823529412, 0.9882352941176471, 0.9725490196078431], [1.0, 1.0, 1.0], [1.0, 1.0, 1.0], [0.9803921568627451, 0.984313725490196, 0.984313725490196], [0.9921568627450981, 0.9882352941176471, 0.996078431372549], [0.9411764705882353, 0.9411764705882353, 0.9450980392156862], [0.792156862745098, 0.8117647058823529, 0.803921568627451], [0.8156862745098039, 0.8431372549019608, 0.8196078431372549], [0.984313725490196, 1.0, 0.9921568627450981], [0.9725490196078431, 0.9882352941176471, 0.984313725490196], [0.9294117647058824, 0.9490196078431372, 0.9411764705882353], [0.6509803921568628, 0.6784313725490196, 0.6431372549019608], [0.47843137254901963, 0.5098039215686274, 0.47058823529411764], [0.8156862745098039, 0.8509803921568627, 0.8470588235294118], [0.8470588235294118, 0.8941176470588236, 0.8784313725490196], [0.8470588235294118, 0.8823529411764706, 0.8509803921568627], [0.796078431372549, 0.8274509803921568, 0.8], [0.7764705882352941, 0.8196078431372549, 0.792156862745098], [0.7764705882352941, 0.8235294117647058, 0.8], [0.7607843137254902, 0.8117647058823529, 0.7803921568627451], [0.7411764705882353, 0.792156862745098, 0.7568627450980392], [0.6745098039215687, 0.7215686274509804, 0.6705882352941176], [0.6235294117647059, 0.6588235294117647, 0.592156862745098], [0.7294117647058823, 0.7607843137254902, 0.6941176470588235], [0.7450980392156863, 0.7803921568627451, 0.7137254901960784], [0.7176470588235294, 0.7529411764705882, 0.6901960784313725], [0.6980392156862745, 0.7294117647058823, 0.6784313725490196]], [[0.7254901960784313, 0.7529411764705882, 0.6705882352941176], [0.6823529411764706, 0.7215686274509804, 0.6862745098039216], [0.7058823529411765, 0.7607843137254902, 0.7176470588235294], [0.7529411764705882, 0.8313725490196079, 0.7803921568627451], [0.8274509803921568, 0.8823529411764706, 0.8352941176470589], [0.9058823529411765, 0.9137254901960784, 0.8941176470588236], [0.7607843137254902, 0.7647058823529411, 0.7568627450980392], [0.8470588235294118, 0.8431372549019608, 0.8392156862745098], [0.984313725490196, 0.984313725490196, 0.9725490196078431], [0.9686274509803922, 0.9725490196078431, 0.9529411764705882], [0.9490196078431372, 0.9490196078431372, 0.9294117647058824], [0.803921568627451, 0.8196078431372549, 0.792156862745098], [0.8156862745098039, 0.8352941176470589, 0.8117647058823529], [0.9803921568627451, 0.996078431372549, 0.9764705882352941], [0.9882352941176471, 0.9882352941176471, 0.984313725490196], [0.996078431372549, 1.0, 0.9921568627450981], [0.8509803921568627, 0.8823529411764706, 0.8470588235294118], [0.8823529411764706, 0.9098039215686274, 0.8784313725490196], [0.9803921568627451, 1.0, 0.9921568627450981], [0.9725490196078431, 1.0, 0.9803921568627451], [0.9529411764705882, 0.984313725490196, 0.9607843137254902], [0.9529411764705882, 0.9882352941176471, 0.9686274509803922], [0.9647058823529412, 1.0, 0.9803921568627451], [0.9725490196078431, 1.0, 0.9921568627450981], [0.9607843137254902, 0.9882352941176471, 0.9803921568627451], [0.7764705882352941, 0.803921568627451, 0.796078431372549], [0.6470588235294118, 0.6745098039215687, 0.6509803921568628], [0.6666666666666666, 0.7019607843137254, 0.6549019607843137], [0.6352941176470588, 0.6823529411764706, 0.6313725490196078], [0.7098039215686275, 0.7450980392156863, 0.6784313725490196], [0.7254901960784313, 0.7529411764705882, 0.6823529411764706], [0.7019607843137254, 0.7333333333333333, 0.6705882352941176]], [[0.7215686274509804, 0.7294117647058823, 0.6666666666666666], [0.5686274509803921, 0.5843137254901961, 0.5450980392156862], [0.5803921568627451, 0.6, 0.5607843137254902], [0.6588235294117647, 0.6705882352941176, 0.6274509803921569], [0.6666666666666666, 0.7137254901960784, 0.6549019607843137], [0.4196078431372549, 0.42745098039215684, 0.396078431372549], [0.15294117647058825, 0.15294117647058825, 0.13725490196078433], [0.25098039215686274, 0.24705882352941178, 0.23529411764705882], [0.6784313725490196, 0.6941176470588235, 0.6588235294117647], [0.8196078431372549, 0.8627450980392157, 0.796078431372549], [0.8235294117647058, 0.8588235294117647, 0.788235294117647], [0.8941176470588236, 0.9254901960784314, 0.8666666666666667], [0.9137254901960784, 0.9411764705882353, 0.9058823529411765], [0.9137254901960784, 0.9411764705882353, 0.9098039215686274], [0.9372549019607843, 0.9607843137254902, 0.9215686274509803], [0.9450980392156862, 0.9686274509803922, 0.9333333333333333], [0.9254901960784314, 0.9764705882352941, 0.9294117647058824], [0.9450980392156862, 0.9921568627450981, 0.9529411764705882], [0.9450980392156862, 0.9686274509803922, 0.9294117647058824], [0.9568627450980393, 0.9725490196078431, 0.9372549019607843], [0.9294117647058824, 0.9568627450980393, 0.9411764705882353], [0.9490196078431372, 0.9803921568627451, 0.9725490196078431], [0.9098039215686274, 0.9411764705882353, 0.9137254901960784], [0.8980392156862745, 0.9058823529411765, 0.8941176470588236], [0.6901960784313725, 0.6862745098039216, 0.6823529411764706], [0.21568627450980393, 0.21176470588235294, 0.19607843137254902], [0.14901960784313725, 0.1450980392156863, 0.13725490196078433], [0.4980392156862745, 0.5333333333333333, 0.5215686274509804], [0.6352941176470588, 0.7137254901960784, 0.6823529411764706], [0.6039215686274509, 0.6509803921568628, 0.596078431372549], [0.6784313725490196, 0.7019607843137254, 0.6352941176470588], [0.6509803921568628, 0.6784313725490196, 0.6078431372549019]], [[0.43137254901960786, 0.43529411764705883, 0.41568627450980394], [0.4549019607843137, 0.49411764705882355, 0.4588235294117647], [0.49411764705882355, 0.49411764705882355, 0.47058823529411764], [0.6274509803921569, 0.44313725490196076, 0.45098039215686275], [0.5058823529411764, 0.4745098039215686, 0.4549019607843137], [0.0784313725490196, 0.09803921568627451, 0.08235294117647059], [0.1803921568627451, 0.1803921568627451, 0.17254901960784313], [0.18823529411764706, 0.19215686274509805, 0.1843137254901961], [0.2549019607843137, 0.27058823529411763, 0.24313725490196078], [0.611764705882353, 0.6470588235294118, 0.5882352941176471], [0.6313725490196078, 0.6627450980392157, 0.6], [0.6823529411764706, 0.7137254901960784, 0.6588235294117647], [0.7019607843137254, 0.7294117647058823, 0.6980392156862745], [0.7333333333333333, 0.7607843137254902, 0.7254901960784313], [0.7607843137254902, 0.7843137254901961, 0.7294117647058823], [0.7803921568627451, 0.807843137254902, 0.7490196078431373], [0.7803921568627451, 0.8274509803921568, 0.7647058823529411], [0.7803921568627451, 0.8313725490196079, 0.7647058823529411], [0.7764705882352941, 0.8274509803921568, 0.7607843137254902], [0.7490196078431373, 0.803921568627451, 0.7372549019607844], [0.7098039215686275, 0.7450980392156863, 0.7019607843137254], [0.7411764705882353, 0.7686274509803922, 0.7333333333333333], [0.7411764705882353, 0.7764705882352941, 0.7372549019607844], [0.6627450980392157, 0.6745098039215687, 0.6588235294117647], [0.24705882352941178, 0.25098039215686274, 0.24705882352941178], [0.12156862745098039, 0.12941176470588237, 0.12156862745098039], [0.13333333333333333, 0.1411764705882353, 0.13333333333333333], [0.16470588235294117, 0.19607843137254902, 0.1843137254901961], [0.6431372549019608, 0.7137254901960784, 0.6901960784313725], [0.6078431372549019, 0.6705882352941176, 0.6470588235294118], [0.43137254901960786, 0.4745098039215686, 0.43529411764705883], [0.24705882352941178, 0.26666666666666666, 0.24313725490196078]], [[0.20392156862745098, 0.20392156862745098, 0.21176470588235294], [0.396078431372549, 0.44313725490196076, 0.4196078431372549], [0.4588235294117647, 0.45098039215686275, 0.4392156862745098], [0.5294117647058824, 0.41568627450980394, 0.396078431372549], [0.3058823529411765, 0.28627450980392155, 0.2784313725490196], [0.13725490196078433, 0.1450980392156863, 0.14901960784313725], [0.28627450980392155, 0.2980392156862745, 0.29411764705882354], [0.2901960784313726, 0.3058823529411765, 0.30196078431372547], [0.17254901960784313, 0.18823529411764706, 0.16862745098039217], [0.47058823529411764, 0.49411764705882355, 0.45098039215686275], [0.5294117647058824, 0.5607843137254902, 0.5058823529411764], [0.5490196078431373, 0.5803921568627451, 0.5333333333333333], [0.5725490196078431, 0.6, 0.5686274509803921], [0.6, 0.6274509803921569, 0.592156862745098], [0.6078431372549019, 0.6313725490196078, 0.5764705882352941], [0.6235294117647059, 0.6509803921568628, 0.592156862745098], [0.6235294117647059, 0.6588235294117647, 0.596078431372549], [0.6313725490196078, 0.6705882352941176, 0.6078431372549019], [0.6039215686274509, 0.6666666666666666, 0.596078431372549], [0.5568627450980392, 0.6274509803921569, 0.5529411764705883], [0.5019607843137255, 0.5294117647058824, 0.47843137254901963], [0.4196078431372549, 0.43529411764705883, 0.38823529411764707], [0.44313725490196076, 0.4745098039215686, 0.43137254901960786], [0.47058823529411764, 0.4823529411764706, 0.47058823529411764], [0.1568627450980392, 0.16862745098039217, 0.16862745098039217], [0.26666666666666666, 0.2980392156862745, 0.28627450980392155], [0.30980392156862746, 0.3333333333333333, 0.3254901960784314], [0.11764705882352941, 0.13725490196078433, 0.13333333333333333], [0.43529411764705883, 0.48627450980392156, 0.4745098039215686], [0.5882352941176471, 0.6470588235294118, 0.6431372549019608], [0.5058823529411764, 0.5411764705882353, 0.5254901960784314], [0.1803921568627451, 0.19607843137254902, 0.2]], [[0.26666666666666666, 0.26666666666666666, 0.28627450980392155], [0.3686274509803922, 0.4, 0.39215686274509803], [0.42745098039215684, 0.42745098039215684, 0.4235294117647059], [0.44313725490196076, 0.47843137254901963, 0.43137254901960786], [0.16862745098039217, 0.18823529411764706, 0.17254901960784313], [0.21176470588235294, 0.21176470588235294, 0.2235294117647059], [0.3843137254901961, 0.40784313725490196, 0.4117647058823529], [0.3176470588235294, 0.34509803921568627, 0.34901960784313724], [0.22745098039215686, 0.23921568627450981, 0.23529411764705882], [0.3568627450980392, 0.3686274509803922, 0.3411764705882353], [0.48627450980392156, 0.5176470588235295, 0.4745098039215686], [0.4745098039215686, 0.5019607843137255, 0.4666666666666667], [0.4823529411764706, 0.5098039215686274, 0.47843137254901963], [0.49411764705882355, 0.5215686274509804, 0.49019607843137253], [0.5098039215686274, 0.5294117647058824, 0.5019607843137255], [0.5176470588235295, 0.5372549019607843, 0.5098039215686274], [0.5215686274509804, 0.5411764705882353, 0.5137254901960784], [0.5372549019607843, 0.5568627450980392, 0.5294117647058824], [0.5333333333333333, 0.5764705882352941, 0.5372549019607843], [0.5411764705882353, 0.5882352941176471, 0.5490196078431373], [0.5568627450980392, 0.5725490196078431, 0.5450980392156862], [0.5176470588235295, 0.5215686274509804, 0.4980392156862745], [0.34901960784313724, 0.3764705882352941, 0.3411764705882353], [0.35294117647058826, 0.36470588235294116, 0.34901960784313724], [0.17647058823529413, 0.2, 0.19607843137254902], [0.2901960784313726, 0.3411764705882353, 0.3333333333333333], [0.47058823529411764, 0.5098039215686274, 0.5019607843137255], [0.19215686274509805, 0.20784313725490197, 0.20392156862745098], [0.29411764705882354, 0.3176470588235294, 0.3137254901960784], [0.5372549019607843, 0.5725490196078431, 0.5725490196078431], [0.5647058823529412, 0.5764705882352941, 0.5686274509803921], [0.2627450980392157, 0.2784313725490196, 0.28627450980392155]], [[0.27450980392156865, 0.27450980392156865, 0.2784313725490196], [0.34509803921568627, 0.35294117647058826, 0.3568627450980392], [0.396078431372549, 0.4117647058823529, 0.4117647058823529], [0.3843137254901961, 0.4, 0.39215686274509803], [0.1450980392156863, 0.1568627450980392, 0.1411764705882353], [0.29411764705882354, 0.3058823529411765, 0.30980392156862746], [0.4588235294117647, 0.49019607843137253, 0.4980392156862745], [0.43137254901960786, 0.4666666666666667, 0.4745098039215686], [0.33725490196078434, 0.35294117647058826, 0.35294117647058826], [0.2784313725490196, 0.2823529411764706, 0.2627450980392157], [0.4666666666666667, 0.49411764705882355, 0.4627450980392157], [0.45098039215686275, 0.47843137254901963, 0.4470588235294118], [0.43137254901960786, 0.4588235294117647, 0.42745098039215684], [0.40784313725490196, 0.43529411764705883, 0.40784313725490196], [0.3803921568627451, 0.396078431372549, 0.396078431372549], [0.36470588235294116, 0.3803921568627451, 0.3843137254901961], [0.3607843137254902, 0.36470588235294116, 0.3686274509803922], [0.34901960784313724, 0.3568627450980392, 0.3607843137254902], [0.3411764705882353, 0.34901960784313724, 0.35294117647058826], [0.34509803921568627, 0.34901960784313724, 0.3568627450980392], [0.3568627450980392, 0.3568627450980392, 0.3607843137254902], [0.3764705882352941, 0.37254901960784315, 0.3803921568627451], [0.4, 0.4235294117647059, 0.4], [0.27058823529411763, 0.28627450980392155, 0.27058823529411763], [0.29411764705882354, 0.3215686274509804, 0.3215686274509804], [0.396078431372549, 0.4588235294117647, 0.4549019607843137], [0.3803921568627451, 0.42745098039215684, 0.4235294117647059], [0.23137254901960785, 0.24313725490196078, 0.24313725490196078], [0.22745098039215686, 0.23137254901960785, 0.23137254901960785], [0.4549019607843137, 0.4549019607843137, 0.45098039215686275], [0.47843137254901963, 0.4666666666666667, 0.4470588235294118], [0.2549019607843137, 0.27058823529411763, 0.27058823529411763]], [[0.25882352941176473, 0.27058823529411763, 0.2784313725490196], [0.30196078431372547, 0.3137254901960784, 0.3137254901960784], [0.3843137254901961, 0.4, 0.4], [0.37254901960784315, 0.3686274509803922, 0.3803921568627451], [0.13725490196078433, 0.13725490196078433, 0.13333333333333333], [0.27058823529411763, 0.2901960784313726, 0.2980392156862745], [0.4470588235294118, 0.48627450980392156, 0.49019607843137253], [0.5098039215686274, 0.5568627450980392, 0.5529411764705883], [0.29411764705882354, 0.3215686274509804, 0.3137254901960784], [0.22745098039215686, 0.23137254901960785, 0.2235294117647059], [0.4588235294117647, 0.4823529411764706, 0.4549019607843137], [0.4666666666666667, 0.49019607843137253, 0.4627450980392157], [0.48627450980392156, 0.5098039215686274, 0.4823529411764706], [0.48627450980392156, 0.5058823529411764, 0.4823529411764706], [0.5098039215686274, 0.5176470588235295, 0.5058823529411764], [0.5019607843137255, 0.5098039215686274, 0.4980392156862745], [0.5098039215686274, 0.5254901960784314, 0.5098039215686274], [0.5098039215686274, 0.5294117647058824, 0.5098039215686274], [0.5098039215686274, 0.5254901960784314, 0.5098039215686274], [0.5098039215686274, 0.5215686274509804, 0.5098039215686274], [0.4980392156862745, 0.5098039215686274, 0.4980392156862745], [0.4745098039215686, 0.48627450980392156, 0.47058823529411764], [0.44313725490196076, 0.4588235294117647, 0.4470588235294118], [0.21568627450980393, 0.23137254901960785, 0.2235294117647059], [0.30196078431372547, 0.32941176470588235, 0.32941176470588235], [0.5176470588235295, 0.5764705882352941, 0.5725490196078431], [0.3843137254901961, 0.4392156862745098, 0.4392156862745098], [0.2784313725490196, 0.3058823529411765, 0.30980392156862746], [0.20392156862745098, 0.21176470588235294, 0.20784313725490197], [0.40784313725490196, 0.396078431372549, 0.38823529411764707], [0.5137254901960784, 0.4823529411764706, 0.4588235294117647], [0.27058823529411763, 0.2823529411764706, 0.2901960784313726]], [[0.27450980392156865, 0.2901960784313726, 0.30196078431372547], [0.30980392156862746, 0.3254901960784314, 0.3254901960784314], [0.35294117647058826, 0.36470588235294116, 0.3607843137254902], [0.3607843137254902, 0.3686274509803922, 0.37254901960784315], [0.1568627450980392, 0.1607843137254902, 0.15294117647058825], [0.3137254901960784, 0.3333333333333333, 0.34509803921568627], [0.4196078431372549, 0.4588235294117647, 0.4627450980392157], [0.40784313725490196, 0.4627450980392157, 0.45098039215686275], [0.2784313725490196, 0.3137254901960784, 0.30196078431372547], [0.20392156862745098, 0.20784313725490197, 0.2], [0.43529411764705883, 0.45098039215686275, 0.42745098039215684], [0.4117647058823529, 0.42745098039215684, 0.4117647058823529], [0.4235294117647059, 0.4392156862745098, 0.43137254901960786], [0.4392156862745098, 0.45098039215686275, 0.44313725490196076], [0.49411764705882355, 0.4980392156862745, 0.47843137254901963], [0.5450980392156862, 0.5490196078431373, 0.5294117647058824], [0.5843137254901961, 0.596078431372549, 0.5882352941176471], [0.6313725490196078, 0.6470588235294118, 0.6352941176470588], [0.6862745098039216, 0.7019607843137254, 0.6784313725490196], [0.7137254901960784, 0.7294117647058823, 0.7058823529411765], [0.7372549019607844, 0.7529411764705882, 0.7294117647058823], [0.5607843137254902, 0.5764705882352941, 0.5529411764705883], [0.43137254901960786, 0.44313725490196076, 0.43137254901960786], [0.1843137254901961, 0.19607843137254902, 0.19215686274509805], [0.2784313725490196, 0.3058823529411765, 0.30196078431372547], [0.39215686274509803, 0.44313725490196076, 0.44313725490196076], [0.4823529411764706, 0.5411764705882353, 0.5450980392156862], [0.41568627450980394, 0.45098039215686275, 0.4549019607843137], [0.16862745098039217, 0.1803921568627451, 0.1803921568627451], [0.3254901960784314, 0.32941176470588235, 0.33725490196078434], [0.3843137254901961, 0.37254901960784315, 0.3607843137254902], [0.2784313725490196, 0.29411764705882354, 0.30196078431372547]], [[0.37254901960784315, 0.38823529411764707, 0.4], [0.34901960784313724, 0.36470588235294116, 0.36470588235294116], [0.27058823529411763, 0.28627450980392155, 0.2823529411764706], [0.3215686274509804, 0.3254901960784314, 0.3215686274509804], [0.1843137254901961, 0.18823529411764706, 0.16470588235294117], [0.5254901960784314, 0.5529411764705883, 0.5568627450980392], [0.5843137254901961, 0.6235294117647059, 0.6274509803921569], [0.5294117647058824, 0.5803921568627451, 0.5725490196078431], [0.403921568627451, 0.4392156862745098, 0.42745098039215684], [0.17254901960784313, 0.17254901960784313, 0.16470588235294117], [0.3843137254901961, 0.38823529411764707, 0.3686274509803922], [0.32941176470588235, 0.3333333333333333, 0.3254901960784314], [0.27058823529411763, 0.26666666666666666, 0.28627450980392155], [0.23529411764705882, 0.23137254901960785, 0.24705882352941178], [0.22745098039215686, 0.2235294117647059, 0.20784313725490197], [0.2235294117647059, 0.2196078431372549, 0.20784313725490197], [0.21568627450980393, 0.21568627450980393, 0.23137254901960785], [0.23137254901960785, 0.23137254901960785, 0.25098039215686274], [0.24705882352941178, 0.25098039215686274, 0.23921568627450981], [0.26666666666666666, 0.27058823529411763, 0.25098039215686274], [0.2980392156862745, 0.30196078431372547, 0.2823529411764706], [0.3137254901960784, 0.3176470588235294, 0.2980392156862745], [0.37254901960784315, 0.3764705882352941, 0.36470588235294116], [0.15294117647058825, 0.15294117647058825, 0.15294117647058825], [0.3686274509803922, 0.39215686274509803, 0.39215686274509803], [0.5725490196078431, 0.6235294117647059, 0.6235294117647059], [0.47843137254901963, 0.5411764705882353, 0.5411764705882353], [0.3215686274509804, 0.35294117647058826, 0.3607843137254902], [0.1607843137254902, 0.17647058823529413, 0.17647058823529413], [0.23921568627450981, 0.2627450980392157, 0.2823529411764706], [0.20392156862745098, 0.2196078431372549, 0.23137254901960785], [0.27058823529411763, 0.28627450980392155, 0.29411764705882354]], [[0.25882352941176473, 0.27450980392156865, 0.28627450980392155], [0.21176470588235294, 0.22745098039215686, 0.22745098039215686], [0.1803921568627451, 0.19607843137254902, 0.19215686274509805], [0.19215686274509805, 0.2, 0.18823529411764706], [0.1450980392156863, 0.14901960784313725, 0.11372549019607843], [0.4588235294117647, 0.48627450980392156, 0.48627450980392156], [0.5294117647058824, 0.5647058823529412, 0.5686274509803921], [0.5882352941176471, 0.6392156862745098, 0.6274509803921569], [0.4549019607843137, 0.48627450980392156, 0.47843137254901963], [0.1411764705882353, 0.13725490196078433, 0.13333333333333333], [0.3333333333333333, 0.3333333333333333, 0.3176470588235294], [0.3176470588235294, 0.3176470588235294, 0.3058823529411765], [0.30980392156862746, 0.30196078431372547, 0.3254901960784314], [0.2980392156862745, 0.2901960784313726, 0.3058823529411765], [0.2901960784313726, 0.27450980392156865, 0.2627450980392157], [0.2901960784313726, 0.27450980392156865, 0.26666666666666666], [0.2784313725490196, 0.27450980392156865, 0.2901960784313726], [0.2627450980392157, 0.25882352941176473, 0.2784313725490196], [0.27450980392156865, 0.27450980392156865, 0.2627450980392157], [0.26666666666666666, 0.26666666666666666, 0.24705882352941178], [0.25882352941176473, 0.2627450980392157, 0.24313725490196078], [0.28627450980392155, 0.2901960784313726, 0.27058823529411763], [0.3176470588235294, 0.3176470588235294, 0.3137254901960784], [0.11764705882352941, 0.11764705882352941, 0.11764705882352941], [0.3803921568627451, 0.396078431372549, 0.4], [0.5098039215686274, 0.5647058823529412, 0.5647058823529412], [0.44313725490196076, 0.5019607843137255, 0.5019607843137255], [0.29411764705882354, 0.3254901960784314, 0.3333333333333333], [0.09411764705882353, 0.10588235294117647, 0.10196078431372549], [0.15294117647058825, 0.16862745098039217, 0.1803921568627451], [0.16862745098039217, 0.19215686274509805, 0.21176470588235294], [0.27058823529411763, 0.28627450980392155, 0.2980392156862745]], [[0.24313725490196078, 0.25882352941176473, 0.27058823529411763], [0.2235294117647059, 0.23921568627450981, 0.23529411764705882], [0.16862745098039217, 0.1843137254901961, 0.1803921568627451], [0.12941176470588237, 0.13333333333333333, 0.11372549019607843], [0.09019607843137255, 0.09411764705882353, 0.050980392156862744], [0.36470588235294116, 0.39215686274509803, 0.38823529411764707], [0.3803921568627451, 0.4196078431372549, 0.4196078431372549], [0.2784313725490196, 0.3215686274509804, 0.3137254901960784], [0.3411764705882353, 0.37254901960784315, 0.3607843137254902], [0.11372549019607843, 0.10588235294117647, 0.10196078431372549], [0.24313725490196078, 0.23137254901960785, 0.2196078431372549], [0.23137254901960785, 0.2196078431372549, 0.20784313725490197], [0.20784313725490197, 0.19215686274509805, 0.19215686274509805], [0.17647058823529413, 0.1607843137254902, 0.1607843137254902], [0.18823529411764706, 0.1607843137254902, 0.14901960784313725], [0.1803921568627451, 0.15294117647058825, 0.1450980392156863], [0.16470588235294117, 0.15294117647058825, 0.14901960784313725], [0.1607843137254902, 0.14901960784313725, 0.14901960784313725], [0.17647058823529413, 0.16470588235294117, 0.15294117647058825], [0.16470588235294117, 0.15294117647058825, 0.1411764705882353], [0.16862745098039217, 0.1568627450980392, 0.1450980392156863], [0.1803921568627451, 0.16862745098039217, 0.1568627450980392], [0.1843137254901961, 0.16862745098039217, 0.16862745098039217], [0.07058823529411765, 0.058823529411764705, 0.06274509803921569], [0.2627450980392157, 0.2784313725490196, 0.2784313725490196], [0.3607843137254902, 0.41568627450980394, 0.41568627450980394], [0.5529411764705883, 0.6196078431372549, 0.6196078431372549], [0.24705882352941178, 0.2784313725490196, 0.28627450980392155], [0.054901960784313725, 0.054901960784313725, 0.043137254901960784], [0.09411764705882353, 0.0784313725490196, 0.06666666666666667], [0.17254901960784313, 0.1843137254901961, 0.19607843137254902], [0.24705882352941178, 0.2627450980392157, 0.27450980392156865]], [[0.27450980392156865, 0.2901960784313726, 0.3058823529411765], [0.23137254901960785, 0.24705882352941178, 0.25098039215686274], [0.18823529411764706, 0.20392156862745098, 0.20392156862745098], [0.11764705882352941, 0.12549019607843137, 0.10588235294117647], [0.0784313725490196, 0.08627450980392157, 0.047058823529411764], [0.3058823529411765, 0.32941176470588235, 0.32941176470588235], [0.596078431372549, 0.6274509803921569, 0.6392156862745098], [0.5098039215686274, 0.5490196078431373, 0.5450980392156862], [0.2549019607843137, 0.28627450980392155, 0.2784313725490196], [0.047058823529411764, 0.043137254901960784, 0.0392156862745098], [0.07058823529411765, 0.054901960784313725, 0.043137254901960784], [0.058823529411764705, 0.043137254901960784, 0.027450980392156862], [0.058823529411764705, 0.043137254901960784, 0.027450980392156862], [0.054901960784313725, 0.0392156862745098, 0.023529411764705882], [0.054901960784313725, 0.027450980392156862, 0.0196078431372549], [0.054901960784313725, 0.027450980392156862, 0.0196078431372549], [0.047058823529411764, 0.03137254901960784, 0.01568627450980392], [0.03529411764705882, 0.0196078431372549, 0.011764705882352941], [0.027450980392156862, 0.011764705882352941, 0.00784313725490196], [0.023529411764705882, 0.00784313725490196, 0.00392156862745098], [0.027450980392156862, 0.011764705882352941, 0.00392156862745098], [0.023529411764705882, 0.00784313725490196, 0.0], [0.023529411764705882, 0.011764705882352941, 0.00392156862745098], [0.023529411764705882, 0.011764705882352941, 0.011764705882352941], [0.10196078431372549, 0.11372549019607843, 0.11764705882352941], [0.5529411764705883, 0.6, 0.6], [0.4980392156862745, 0.5490196078431373, 0.5529411764705883], [0.07450980392156863, 0.10196078431372549, 0.10196078431372549], [0.03529411764705882, 0.03529411764705882, 0.023529411764705882], [0.09411764705882353, 0.07450980392156863, 0.058823529411764705], [0.14901960784313725, 0.15294117647058825, 0.1568627450980392], [0.19607843137254902, 0.20784313725490197, 0.2196078431372549]], [[0.25882352941176473, 0.27058823529411763, 0.2980392156862745], [0.23529411764705882, 0.25098039215686274, 0.26666666666666666], [0.17254901960784313, 0.18823529411764706, 0.2], [0.12549019607843137, 0.1450980392156863, 0.12941176470588237], [0.09803921568627451, 0.11764705882352941, 0.09019607843137255], [0.12549019607843137, 0.1411764705882353, 0.13725490196078433], [0.48627450980392156, 0.5019607843137255, 0.5137254901960784], [0.4823529411764706, 0.5019607843137255, 0.5019607843137255], [0.09803921568627451, 0.11764705882352941, 0.10980392156862745], [0.07450980392156863, 0.0784313725490196, 0.07058823529411765], [0.09411764705882353, 0.0784313725490196, 0.06666666666666667], [0.09803921568627451, 0.08235294117647059, 0.07058823529411765], [0.11764705882352941, 0.10196078431372549, 0.09019607843137255], [0.12549019607843137, 0.10980392156862745, 0.09803921568627451], [0.12156862745098039, 0.10588235294117647, 0.09411764705882353], [0.12156862745098039, 0.10588235294117647, 0.09803921568627451], [0.13333333333333333, 0.11764705882352941, 0.11764705882352941], [0.13333333333333333, 0.11764705882352941, 0.11764705882352941], [0.12941176470588237, 0.11372549019607843, 0.10588235294117647], [0.12156862745098039, 0.10588235294117647, 0.09411764705882353], [0.11372549019607843, 0.10980392156862745, 0.09411764705882353], [0.10588235294117647, 0.10588235294117647, 0.09019607843137255], [0.10588235294117647, 0.10588235294117647, 0.09803921568627451], [0.11764705882352941, 0.11372549019607843, 0.11372549019607843], [0.06274509803921569, 0.07058823529411765, 0.07450980392156863], [0.17647058823529413, 0.19607843137254902, 0.20784313725490197], [0.16862745098039217, 0.18823529411764706, 0.19215686274509805], [0.08235294117647059, 0.10196078431372549, 0.09019607843137255], [0.09803921568627451, 0.11372549019607843, 0.10980392156862745], [0.14901960784313725, 0.1607843137254902, 0.17254901960784313], [0.1843137254901961, 0.2, 0.21176470588235294], [0.19607843137254902, 0.21176470588235294, 0.2235294117647059]], [[0.23921568627450981, 0.25098039215686274, 0.2784313725490196], [0.23137254901960785, 0.24705882352941178, 0.25882352941176473], [0.2, 0.21568627450980393, 0.2235294117647059], [0.17647058823529413, 0.19215686274509805, 0.1843137254901961], [0.15294117647058825, 0.17254901960784313, 0.1568627450980392], [0.11372549019607843, 0.12941176470588237, 0.11764705882352941], [0.10196078431372549, 0.11764705882352941, 0.10588235294117647], [0.12941176470588237, 0.15294117647058825, 0.12941176470588237], [0.21568627450980393, 0.23921568627450981, 0.20784313725490197], [0.25098039215686274, 0.2627450980392157, 0.23921568627450981], [0.24705882352941178, 0.24313725490196078, 0.23529411764705882], [0.2549019607843137, 0.25098039215686274, 0.24313725490196078], [0.26666666666666666, 0.2627450980392157, 0.2549019607843137], [0.2627450980392157, 0.25882352941176473, 0.25098039215686274], [0.26666666666666666, 0.25882352941176473, 0.25098039215686274], [0.26666666666666666, 0.2627450980392157, 0.2549019607843137], [0.28627450980392155, 0.2784313725490196, 0.2823529411764706], [0.28627450980392155, 0.2823529411764706, 0.28627450980392155], [0.2823529411764706, 0.27450980392156865, 0.27058823529411763], [0.27450980392156865, 0.26666666666666666, 0.2627450980392157], [0.27450980392156865, 0.27450980392156865, 0.2627450980392157], [0.26666666666666666, 0.27058823529411763, 0.2627450980392157], [0.26666666666666666, 0.26666666666666666, 0.26666666666666666], [0.25882352941176473, 0.25882352941176473, 0.25882352941176473], [0.21568627450980393, 0.2235294117647059, 0.23137254901960785], [0.17254901960784313, 0.18823529411764706, 0.2], [0.19215686274509805, 0.21176470588235294, 0.21568627450980393], [0.21568627450980393, 0.23137254901960785, 0.22745098039215686], [0.23137254901960785, 0.24705882352941178, 0.24705882352941178], [0.22745098039215686, 0.24313725490196078, 0.2549019607843137], [0.22745098039215686, 0.24313725490196078, 0.2549019607843137], [0.22745098039215686, 0.24313725490196078, 0.2549019607843137]], [[0.2549019607843137, 0.26666666666666666, 0.29411764705882354], [0.2627450980392157, 0.2784313725490196, 0.2901960784313726], [0.28627450980392155, 0.30196078431372547, 0.3137254901960784], [0.3058823529411765, 0.3215686274509804, 0.3215686274509804], [0.3215686274509804, 0.33725490196078434, 0.3333333333333333], [0.35294117647058826, 0.3686274509803922, 0.34901960784313724], [0.3686274509803922, 0.38823529411764707, 0.3568627450980392], [0.39215686274509803, 0.4117647058823529, 0.3803921568627451], [0.4470588235294118, 0.47058823529411764, 0.43529411764705883], [0.36470588235294116, 0.3764705882352941, 0.3568627450980392], [0.32941176470588235, 0.32941176470588235, 0.32941176470588235], [0.32941176470588235, 0.32941176470588235, 0.32941176470588235], [0.3333333333333333, 0.3333333333333333, 0.3333333333333333], [0.3254901960784314, 0.3254901960784314, 0.3215686274509804], [0.32941176470588235, 0.32941176470588235, 0.32941176470588235], [0.32941176470588235, 0.32941176470588235, 0.32941176470588235], [0.32941176470588235, 0.32941176470588235, 0.33725490196078434], [0.32941176470588235, 0.3254901960784314, 0.33725490196078434], [0.3215686274509804, 0.3215686274509804, 0.3215686274509804], [0.3137254901960784, 0.3137254901960784, 0.3137254901960784], [0.3333333333333333, 0.3411764705882353, 0.33725490196078434], [0.3333333333333333, 0.34509803921568627, 0.3411764705882353], [0.3254901960784314, 0.32941176470588235, 0.33725490196078434], [0.3058823529411765, 0.3058823529411765, 0.3176470588235294], [0.29411764705882354, 0.2980392156862745, 0.3137254901960784], [0.29411764705882354, 0.30980392156862746, 0.3215686274509804], [0.28627450980392155, 0.30196078431372547, 0.30980392156862746], [0.26666666666666666, 0.2823529411764706, 0.2901960784313726], [0.25882352941176473, 0.27450980392156865, 0.2823529411764706], [0.25098039215686274, 0.26666666666666666, 0.2784313725490196], [0.24705882352941178, 0.2627450980392157, 0.27450980392156865], [0.23529411764705882, 0.25098039215686274, 0.2627450980392157]], [[0.29411764705882354, 0.3058823529411765, 0.3333333333333333], [0.30196078431372547, 0.3176470588235294, 0.3333333333333333], [0.35294117647058826, 0.3686274509803922, 0.3764705882352941], [0.39215686274509803, 0.40784313725490196, 0.4117647058823529], [0.39215686274509803, 0.40784313725490196, 0.4117647058823529], [0.3843137254901961, 0.403921568627451, 0.39215686274509803], [0.3607843137254902, 0.3803921568627451, 0.36470588235294116], [0.3411764705882353, 0.3607843137254902, 0.34901960784313724], [0.3215686274509804, 0.33725490196078434, 0.32941176470588235], [0.3215686274509804, 0.3333333333333333, 0.32941176470588235], [0.33725490196078434, 0.3411764705882353, 0.34901960784313724], [0.3411764705882353, 0.34509803921568627, 0.35294117647058826], [0.35294117647058826, 0.3568627450980392, 0.36470588235294116], [0.34901960784313724, 0.35294117647058826, 0.3607843137254902], [0.34901960784313724, 0.35294117647058826, 0.3607843137254902], [0.34901960784313724, 0.35294117647058826, 0.3607843137254902], [0.35294117647058826, 0.35294117647058826, 0.37254901960784315], [0.34901960784313724, 0.35294117647058826, 0.3764705882352941], [0.34901960784313724, 0.35294117647058826, 0.3607843137254902], [0.34509803921568627, 0.34901960784313724, 0.35294117647058826], [0.3411764705882353, 0.3607843137254902, 0.3607843137254902], [0.33725490196078434, 0.3607843137254902, 0.3607843137254902], [0.3411764705882353, 0.34901960784313724, 0.36470588235294116], [0.33725490196078434, 0.32941176470588235, 0.3568627450980392], [0.33725490196078434, 0.34509803921568627, 0.3607843137254902], [0.3058823529411765, 0.3215686274509804, 0.3333333333333333], [0.28627450980392155, 0.30196078431372547, 0.3176470588235294], [0.2823529411764706, 0.29411764705882354, 0.3137254901960784], [0.27450980392156865, 0.2901960784313726, 0.3058823529411765], [0.2627450980392157, 0.2784313725490196, 0.2901960784313726], [0.26666666666666666, 0.2823529411764706, 0.29411764705882354], [0.25882352941176473, 0.27450980392156865, 0.28627450980392155]], [[0.3215686274509804, 0.3333333333333333, 0.3607843137254902], [0.3137254901960784, 0.32941176470588235, 0.34509803921568627], [0.3254901960784314, 0.3411764705882353, 0.35294117647058826], [0.32941176470588235, 0.34509803921568627, 0.3568627450980392], [0.3176470588235294, 0.3333333333333333, 0.34509803921568627], [0.3176470588235294, 0.3333333333333333, 0.3411764705882353], [0.32941176470588235, 0.34509803921568627, 0.35294117647058826], [0.34901960784313724, 0.3607843137254902, 0.3803921568627451], [0.35294117647058826, 0.36470588235294116, 0.39215686274509803], [0.3568627450980392, 0.3686274509803922, 0.39215686274509803], [0.35294117647058826, 0.3686274509803922, 0.3803921568627451], [0.3568627450980392, 0.3686274509803922, 0.3803921568627451], [0.3607843137254902, 0.3764705882352941, 0.38823529411764707], [0.36470588235294116, 0.3803921568627451, 0.39215686274509803], [0.3607843137254902, 0.3764705882352941, 0.38823529411764707], [0.3607843137254902, 0.3764705882352941, 0.39215686274509803], [0.36470588235294116, 0.3764705882352941, 0.403921568627451], [0.36470588235294116, 0.3764705882352941, 0.403921568627451], [0.37254901960784315, 0.38823529411764707, 0.4], [0.3686274509803922, 0.3843137254901961, 0.396078431372549], [0.32941176470588235, 0.3568627450980392, 0.36470588235294116], [0.3137254901960784, 0.34509803921568627, 0.35294117647058826], [0.3254901960784314, 0.3333333333333333, 0.3568627450980392], [0.33725490196078434, 0.3333333333333333, 0.36470588235294116], [0.3254901960784314, 0.3333333333333333, 0.35294117647058826], [0.3176470588235294, 0.3333333333333333, 0.34509803921568627], [0.3176470588235294, 0.32941176470588235, 0.34901960784313724], [0.30196078431372547, 0.3137254901960784, 0.3411764705882353], [0.2823529411764706, 0.29411764705882354, 0.3176470588235294], [0.2627450980392157, 0.2784313725490196, 0.2901960784313726], [0.2549019607843137, 0.27058823529411763, 0.2823529411764706], [0.2549019607843137, 0.27058823529411763, 0.2823529411764706]]]]}'"
            ]
          },
          "metadata": {
            "tags": []
          },
          "execution_count": 28
        }
      ]
    },
    {
      "cell_type": "markdown",
      "metadata": {
        "id": "KZDKjyfbPoIa",
        "colab_type": "text"
      },
      "source": [
        "### Sending the first POST request to the model"
      ]
    },
    {
      "cell_type": "code",
      "metadata": {
        "id": "7oFbtxiyPe4p",
        "colab_type": "code",
        "colab": {}
      },
      "source": [
        "headers = {\"content-type\":\"application/json\"}"
      ],
      "execution_count": 0,
      "outputs": []
    },
    {
      "cell_type": "code",
      "metadata": {
        "id": "I5KHh02nQYIJ",
        "colab_type": "code",
        "colab": {}
      },
      "source": [
        "json_response = requests.post(url=\"http://localhost:8501/v1/models/cifar10:predict\", data=data, headers=headers)"
      ],
      "execution_count": 0,
      "outputs": []
    },
    {
      "cell_type": "code",
      "metadata": {
        "id": "bMYkCQ4gQ2tR",
        "colab_type": "code",
        "outputId": "b7f0dee5-1b6d-43fb-f1db-6c5388652061",
        "colab": {
          "base_uri": "https://localhost:8080/",
          "height": 36
        }
      },
      "source": [
        "json_response"
      ],
      "execution_count": 0,
      "outputs": [
        {
          "output_type": "execute_result",
          "data": {
            "text/plain": [
              "<Response [200]>"
            ]
          },
          "metadata": {
            "tags": []
          },
          "execution_count": 21
        }
      ]
    },
    {
      "cell_type": "code",
      "metadata": {
        "id": "UtoG2441Q4_I",
        "colab_type": "code",
        "colab": {}
      },
      "source": [
        "predictions = json.loads(json_response.text)['predictions']"
      ],
      "execution_count": 0,
      "outputs": []
    },
    {
      "cell_type": "code",
      "metadata": {
        "id": "hA-jN6xSRK2S",
        "colab_type": "code",
        "outputId": "2733a092-8558-4630-a566-edefc86b67ec",
        "colab": {
          "base_uri": "https://localhost:8080/",
          "height": 204
        }
      },
      "source": [
        "predictions"
      ],
      "execution_count": 0,
      "outputs": [
        {
          "output_type": "execute_result",
          "data": {
            "text/plain": [
              "[[1.43151e-05,\n",
              "  8.25434e-09,\n",
              "  0.00420625,\n",
              "  0.0147217,\n",
              "  0.0125217,\n",
              "  0.00353992,\n",
              "  0.000103995,\n",
              "  0.964891,\n",
              "  1.08745e-06,\n",
              "  5.2131e-09]]"
            ]
          },
          "metadata": {
            "tags": []
          },
          "execution_count": 23
        }
      ]
    },
    {
      "cell_type": "code",
      "metadata": {
        "id": "KlyFNxrxRL_A",
        "colab_type": "code",
        "outputId": "9f5e40d2-d793-443d-bd7a-f5bc007a5bd5",
        "colab": {
          "base_uri": "https://localhost:8080/",
          "height": 288
        }
      },
      "source": [
        "plt.imshow(X_test[random_image])"
      ],
      "execution_count": 0,
      "outputs": [
        {
          "output_type": "execute_result",
          "data": {
            "text/plain": [
              "<matplotlib.image.AxesImage at 0x7f6b1b94cf60>"
            ]
          },
          "metadata": {
            "tags": []
          },
          "execution_count": 24
        },
        {
          "output_type": "display_data",
          "data": {
            "image/png": "[encoded data removed]",
            "text/plain": [
              "<Figure size 432x288 with 1 Axes>"
            ]
          },
          "metadata": {
            "tags": []
          }
        }
      ]
    },
    {
      "cell_type": "code",
      "metadata": {
        "id": "E3WbrMl_RW1Y",
        "colab_type": "code",
        "outputId": "f8089ea0-1391-449a-cfa4-d873999a8812",
        "colab": {
          "base_uri": "https://localhost:8080/",
          "height": 36
        }
      },
      "source": [
        "class_names[np.argmax(predictions[0])]"
      ],
      "execution_count": 0,
      "outputs": [
        {
          "output_type": "execute_result",
          "data": {
            "text/plain": [
              "'horse'"
            ]
          },
          "metadata": {
            "tags": []
          },
          "execution_count": 25
        }
      ]
    },
    {
      "cell_type": "markdown",
      "metadata": {
        "id": "OVN6T3tFR_IQ",
        "colab_type": "text"
      },
      "source": [
        "## Stage 8: Sending the POST request to a specific model"
      ]
    },
    {
      "cell_type": "code",
      "metadata": {
        "id": "5TYXGo-XRkCo",
        "colab_type": "code",
        "colab": {}
      },
      "source": [
        "specific_json_response = requests.post(url=\"http://localhost:8501/v1/models/cifar10/versions/1:predict\", data=data, headers=headers)"
      ],
      "execution_count": 0,
      "outputs": []
    },
    {
      "cell_type": "code",
      "metadata": {
        "id": "TF9nOKVeS9ER",
        "colab_type": "code",
        "outputId": "c294eded-4efd-485e-b17c-a095796d85ca",
        "colab": {
          "base_uri": "https://localhost:8080/",
          "height": 36
        }
      },
      "source": [
        "specific_json_response"
      ],
      "execution_count": 0,
      "outputs": [
        {
          "output_type": "execute_result",
          "data": {
            "text/plain": [
              "<Response [200]>"
            ]
          },
          "metadata": {
            "tags": []
          },
          "execution_count": 27
        }
      ]
    },
    {
      "cell_type": "code",
      "metadata": {
        "id": "EZGwCkeMS-qg",
        "colab_type": "code",
        "colab": {}
      },
      "source": [
        ""
      ],
      "execution_count": 0,
      "outputs": []
    }
  ]
}